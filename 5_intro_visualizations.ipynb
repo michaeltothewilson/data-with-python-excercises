{
 "cells": [
  {
   "cell_type": "markdown",
   "id": "4053725f-5c04-4164-a57f-a6fda51c6474",
   "metadata": {},
   "source": [
    "## Your Info\n",
    "__Name:__\n",
    "\n",
    "__PDX Email:__\n",
    "\n",
    "__Collaborators:__"
   ]
  },
  {
   "cell_type": "markdown",
   "id": "c4132b80-c455-4444-8a93-9d94d3afbdc6",
   "metadata": {
    "editable": false,
    "slideshow": {
     "slide_type": ""
    },
    "tags": []
   },
   "source": [
    "# Data Visualization Workout\n",
    "\n",
    "The following exercises will provide oppotunities to build simple plots using `pyplot`."
   ]
  },
  {
   "cell_type": "markdown",
   "id": "8b80e46c-4aca-4c01-a961-214da4c58c65",
   "metadata": {
    "editable": false,
    "slideshow": {
     "slide_type": ""
    },
    "tags": []
   },
   "source": [
    "## Workout 0 - Importing the Tools\n",
    "\n",
    "* Import the `pandas` library with the `pd` alias.\n",
    "* Import `numpy` with the `np` alias\n",
    "* Import `matplotlib.pyplot` with the `plt` alias.\n"
   ]
  },
  {
   "cell_type": "code",
   "execution_count": null,
   "id": "1e3e4368-5ccd-4966-9e4c-dcfd848cebd4",
   "metadata": {},
   "outputs": [],
   "source": [
    "## Begin Solution\n",
    "\n",
    "\n",
    "\n",
    "## End Solution"
   ]
  },
  {
   "cell_type": "markdown",
   "id": "cf91f3b2-72e5-478b-b25b-447b41cac8b7",
   "metadata": {
    "editable": false,
    "slideshow": {
     "slide_type": ""
    },
    "tags": []
   },
   "source": [
    "## Workout 1 - Portland Oregon Home Price Index\n",
    "\n",
    "This workout uses a dataset based on the OR-Portland Home Price Index (POXRSA).\n",
    "\n",
    "The Home Price Index (HPI) is a broad measure of the movement of single-family house prices. It serves as a key indicator for understanding trends and changes in the housing market for a specific region – in this case, the Portland, Oregon metropolitan area. The POXRSA tracks the average change in housing prices over time, allowing us to observe periods of growth, decline, or stability.\n",
    "\n",
    "Source: [Fred | Economic Data](https://fred.stlouisfed.org/)\n",
    "\n",
    "__Some Background__\n",
    "\n",
    "Within the dataset, the `POXRSA` column represents an index value, not the actual dollar price of a home. Think of it as a standardized score that tracks the relative change in home prices in the Portland metropolitan area over time, with a specific point in the past serving as a baseline.\n",
    "\n",
    "* __Relative Change:__ The numbers in the `POXRSA` column tell you how home prices have changed relative to that baseline period.\n",
    "\n",
    "    * A value above 100 indicates that home prices in Portland were, on average, higher than during the baseline period.\n",
    "    * A value below 100 would indicate that home prices were, on average, lower than during the baseline period.\n",
    "    * A value of exactly 100 would represent the average home price during the baseline period.\n",
    "\n",
    "Let's see what information we can gather about Portland Housing Prices from this dataset."
   ]
  },
  {
   "cell_type": "markdown",
   "id": "d2b878ae-6120-420a-a7b4-6e77883e2456",
   "metadata": {
    "editable": false,
    "slideshow": {
     "slide_type": ""
    },
    "tags": []
   },
   "source": [
    "### Exercise 1 - Load the Data\n",
    "\n",
    "__Your Task:__\n",
    "1. Load the dataset into a pandas dataframe, named `house_df`.\n",
    "    * File Path: `data/POXRSA.csv`\n",
    "2. Display and Inspect Key Information about the dataframe"
   ]
  },
  {
   "cell_type": "code",
   "execution_count": null,
   "id": "747f5c58-cae3-4618-82f2-3b50dc9b55f8",
   "metadata": {
    "editable": true,
    "slideshow": {
     "slide_type": ""
    },
    "tags": []
   },
   "outputs": [],
   "source": [
    "## Begin Solution\n",
    "\n",
    "\n",
    "\n",
    "\n",
    "## End Solution"
   ]
  },
  {
   "cell_type": "markdown",
   "id": "9e79c31c-f954-46f6-bc16-1245dd79bfd9",
   "metadata": {
    "editable": false,
    "slideshow": {
     "slide_type": ""
    },
    "tags": []
   },
   "source": [
    "### Exercise 2 - Transform the Data\n",
    "\n",
    "Once the data has been loaded and key information is displayed, notice the datatype of the `observation_date` values. The datatype is object.\n",
    "\n",
    "In order to best visualize this data, we must convert the `observation_date` values into datetime objects.\n",
    "\n",
    "__Your Task:__\n",
    "1. Convert the `observation_date` column data type to datetime.\n",
    "2. Display Key information about the dataframe to confirm the data type transformation."
   ]
  },
  {
   "cell_type": "code",
   "execution_count": null,
   "id": "973ca07b-5455-427e-b2ba-2096ff3391c7",
   "metadata": {},
   "outputs": [],
   "source": [
    "## Begin Solution\n",
    "\n",
    "\n",
    "\n",
    "## End Solution"
   ]
  },
  {
   "cell_type": "markdown",
   "id": "4157234b-4875-4965-bfcc-d965025027d2",
   "metadata": {
    "editable": false,
    "slideshow": {
     "slide_type": ""
    },
    "tags": []
   },
   "source": [
    "### Exercise 3 - Plot the Data\n",
    "\n",
    "Next, let's present the data in a way that allows us to easily pick out any trends over time--a Line Graph.\n",
    "\n",
    "__Your Task__\n",
    "1. Build a figure where:\n",
    "    * The figure size is 10 x 6\n",
    "    * The dpi is 100\n",
    "2. Plot a Line Chart where:\n",
    "    * The x-axis is `observation_date`\n",
    "    * The y-axis is `POXRSA`\n",
    "3. Customize the Chart:\n",
    "    * Set the title to \"Housing Price Index - Portland Oregon\"\n",
    "    * Set the x-label to \"Year\"\n",
    "    * Set the y-label to \"Index\"\n",
    "    * Add any additional customization that you see fit."
   ]
  },
  {
   "cell_type": "code",
   "execution_count": null,
   "id": "ce8ade70-7f87-4037-8dcb-aae30abc67c6",
   "metadata": {},
   "outputs": [],
   "source": [
    "## Begin Solution\n",
    "\n",
    "\n",
    "\n",
    "## End Solution"
   ]
  },
  {
   "cell_type": "markdown",
   "id": "0202bda7-0efb-4f2b-8926-62a4f32e9fec",
   "metadata": {
    "editable": false,
    "slideshow": {
     "slide_type": ""
    },
    "tags": []
   },
   "source": [
    "### Reflect on the Data\n",
    "\n",
    "1. What are the main patterns or trends you observe in your visualization? Describe what stands out to you. \n",
    "\n",
    "2. Based on these patterns, what key insight or conclusion can you draw about the data? Explain your reasoning. \n",
    "\n",
    "3. What is one question that your visualization raises for you about the data or the topic it represents?"
   ]
  },
  {
   "cell_type": "markdown",
   "id": "b42d6dfd-88cd-49d2-b25c-8eac751a9baf",
   "metadata": {},
   "source": [
    "__Begin Reflection__\n",
    "\n",
    "1. Your Response\n",
    "2. Your Response\n",
    "3. Your Response\n",
    "\n",
    "__End Reflection__"
   ]
  },
  {
   "cell_type": "markdown",
   "id": "cd4c6551-dc0e-4496-87cd-b3aee1d64b76",
   "metadata": {
    "editable": false,
    "slideshow": {
     "slide_type": ""
    },
    "tags": []
   },
   "source": [
    "## Workout 2 - Egg Prices\n",
    "\n",
    "It seems that we just can't get a break at the grocery store. We see it on the news all the time, the price of eggs is way up. Let's take a look at this information for ourselves..."
   ]
  },
  {
   "cell_type": "markdown",
   "id": "b3e2bbed-685a-4efd-895f-07403feaadb6",
   "metadata": {
    "editable": false,
    "slideshow": {
     "slide_type": ""
    },
    "tags": []
   },
   "source": [
    "### Exercise 1 - Load and Inspect the Data\n",
    "\n",
    "__Your Task:__\n",
    "1. Load Average Price: Grade A Eggs dataset into a dataframe called `eggs_df`.\n",
    "    * File Path: `data/APU0000708111.csv`\n",
    "2. Display key information to get an idea of what we are dealing with."
   ]
  },
  {
   "cell_type": "code",
   "execution_count": null,
   "id": "7cd586e9-fab2-4851-bc98-b78591381351",
   "metadata": {},
   "outputs": [],
   "source": [
    "## Begin Solution\n",
    "\n",
    "\n",
    "\n",
    "## End Solution"
   ]
  },
  {
   "cell_type": "markdown",
   "id": "035c35a1-cb28-4b85-8e2a-886b4e1e09ee",
   "metadata": {
    "editable": false,
    "slideshow": {
     "slide_type": ""
    },
    "tags": []
   },
   "source": [
    "### Exercise 2 - Transform the Data\n",
    "\n",
    "__Your Task:__\n",
    "1. Convert the `observation_date` column's datatype to datetime\n",
    "2. Change the column names to something more fitting\n",
    "3. Display key information to confirm transformations"
   ]
  },
  {
   "cell_type": "code",
   "execution_count": null,
   "id": "29f1546e-0524-470e-9229-8083be16bf79",
   "metadata": {},
   "outputs": [],
   "source": [
    "## Begin Solution\n",
    "\n",
    "\n",
    "\n",
    "## End Solution"
   ]
  },
  {
   "cell_type": "markdown",
   "id": "a785016c-52f2-49f8-92d4-71194386a9be",
   "metadata": {
    "editable": false,
    "slideshow": {
     "slide_type": ""
    },
    "tags": []
   },
   "source": [
    "### Exercise 3 - Plot the Data\n",
    "\n",
    "A line graph will serve us well for visualizing and gathering insights on egg prices overtime. So let's build it.\n",
    "\n",
    "__Your Task:__\n",
    "1. Build a figure where:\n",
    "    * The figure size is 10 x 6\n",
    "    * The dpi is 100\n",
    "2. Plot a Line Chart where:\n",
    "    * The x-axis is based on the date.\n",
    "    * The y-axis is based on price.\n",
    "3. Customize the Chart:\n",
    "    * Provide a Meaningful title \n",
    "    * Provide a Meaningful x-label \n",
    "    * Provide a Meaningful y-label\n",
    "    * Add any additional customization that you see fit."
   ]
  },
  {
   "cell_type": "code",
   "execution_count": null,
   "id": "1ab89129-ce1c-4157-a257-016711f5cb0f",
   "metadata": {
    "scrolled": true
   },
   "outputs": [],
   "source": [
    "## Begin Solution\n",
    "\n",
    "\n",
    "\n",
    "## End Solution"
   ]
  },
  {
   "cell_type": "markdown",
   "id": "fd0db56c-d55c-42c7-a8dc-8db0cc603eb9",
   "metadata": {
    "editable": false,
    "slideshow": {
     "slide_type": ""
    },
    "tags": []
   },
   "source": [
    "### Reflect on the Data\n",
    "\n",
    "1. What are the main patterns or trends you observe in your visualization? Describe what stands out to you. \n",
    "\n",
    "2. Based on these patterns, what key insight or conclusion can you draw about the data? Explain your reasoning. \n",
    "\n",
    "3. What is one question that your visualization raises for you about the data or the topic it represents?"
   ]
  },
  {
   "cell_type": "markdown",
   "id": "7761e5e6-9219-48ec-9fbd-b5424f7c06b8",
   "metadata": {},
   "source": [
    "__Begin Reflection__\n",
    "\n",
    "1. Your Response\n",
    "2. Your Response\n",
    "3. Your Response\n",
    "\n",
    "__End Reflection__"
   ]
  },
  {
   "cell_type": "code",
   "execution_count": null,
   "id": "df35b7b9-9121-4d26-8143-69352e8b861a",
   "metadata": {},
   "outputs": [],
   "source": [
    "___Begin Reflection___\n",
    "\n",
    "\n",
    "___End Reflection___"
   ]
  },
  {
   "cell_type": "markdown",
   "id": "7b92b0a2-12b8-497d-b434-6f5ff901985c",
   "metadata": {
    "editable": false,
    "slideshow": {
     "slide_type": ""
    },
    "tags": []
   },
   "source": [
    "## Workout 3 Pet Data\n",
    "\n",
    "The next dataset that we will use  contains pet (dogs and cats) information across the United States.  "
   ]
  },
  {
   "cell_type": "markdown",
   "id": "b99f7528-fb6f-4687-b5e2-9ee0ecdf3df3",
   "metadata": {
    "editable": false,
    "slideshow": {
     "slide_type": ""
    },
    "tags": []
   },
   "source": [
    "### Exercise 1: Load and Inspect the Data\n",
    "\n",
    "Alright you should be familiar with routine now.\n",
    "\n",
    "__Your Task__\n",
    "\n",
    "1. Load the data into a dataframe called `pet_df`\n",
    "    * File Path: `data/catsvdogs.xlsx`\n",
    "2. Inspect the data using the good ol' `df.info()` method."
   ]
  },
  {
   "cell_type": "code",
   "execution_count": null,
   "id": "5d0e6bf2-f91e-42b7-a8fd-8676748c1157",
   "metadata": {},
   "outputs": [],
   "source": [
    "## Begin Solution\n",
    "\n",
    "\n",
    "\n",
    "## End Solution"
   ]
  },
  {
   "cell_type": "markdown",
   "id": "f09ffd84-4cb8-4542-b828-0e4ee50932e7",
   "metadata": {
    "editable": false,
    "slideshow": {
     "slide_type": ""
    },
    "tags": []
   },
   "source": [
    "### Exercise 2 - Filter the Data\n",
    "\n",
    "For this particular exercise, let's focus on Oregon (perhaps we are biased for some reason).\n",
    "\n",
    "__Your Task__\n",
    "1. Isolate the Oregon Row and place into a dataframe named `oregon`\n",
    "2. Inspect the new dataframe\n"
   ]
  },
  {
   "cell_type": "code",
   "execution_count": null,
   "id": "ec81c68c-a75b-483c-bd6a-d7f763dc576b",
   "metadata": {
    "editable": true,
    "slideshow": {
     "slide_type": ""
    },
    "tags": []
   },
   "outputs": [],
   "source": [
    "## Begin Solution\n",
    "\n",
    "\n",
    "\n",
    "## End Solution"
   ]
  },
  {
   "cell_type": "markdown",
   "id": "fdb473f2-eb67-4396-ae65-3b369d73aee7",
   "metadata": {
    "editable": false,
    "slideshow": {
     "slide_type": ""
    },
    "tags": []
   },
   "source": [
    "### Exercise 3 - Plot the Data (Pie Chart)\n",
    "\n",
    "Now let's create a pie chart to help use visualization the Cat and Dog Population in Oregon.\n",
    "\n",
    "__Your Task:__\n",
    "1. Build a figure where:\n",
    "    * The figure size is 6 x 6\n",
    "    * The dpi is 100\n",
    "2. Plot a Pie Chart with slices for:\n",
    "    * Dog Population\n",
    "    * Cat Population\n",
    "4. Customize the Chart:\n",
    "    * Provide a meaningful title  for the chart\n",
    "    * Provide a meaningful labels for each slice\n",
    "    * Provide Contrasting Colors for each slice\n",
    "    * Provide a Legend\n",
    "    * Add any additional customization that you see fit."
   ]
  },
  {
   "cell_type": "code",
   "execution_count": null,
   "id": "f2d78c78-986b-4cbb-8173-38fd64ec3dfc",
   "metadata": {},
   "outputs": [],
   "source": [
    "## Begin Solution\n",
    "\n",
    "\n",
    "\n",
    "## End Solution"
   ]
  },
  {
   "cell_type": "markdown",
   "id": "6db4c756-459f-42e1-bcdf-71fd32d09f20",
   "metadata": {
    "editable": false,
    "slideshow": {
     "slide_type": ""
    },
    "tags": []
   },
   "source": [
    "### Exercise 4 - Plot the Data (Number of Pet House Holds by Location)\n",
    "\n",
    "We haven't done a Bar Chart yet. The same dataset contains the Number of Pet Households by Location. Let's see what that looks like.\n",
    "\n",
    "__Your Task__\n",
    "1. Build a figure where:\n",
    "    * The figure size is 12 x 6\n",
    "    * The dpi is 100\n",
    "2. Plot a Bar Chart where:\n",
    "    * x-axis is the Location\n",
    "    * y-axis is the Number of Pet Households\n",
    "4. Customize the Chart:\n",
    "    * Provide a meaningful title  for the chart\n",
    "    * Provide a meaningful labels\n",
    "    * Adjust the xticks for readability\n",
    "    * `rotation` and `fontsize` should be customized\n",
    "    * Add any additional customization that you see fit."
   ]
  },
  {
   "cell_type": "code",
   "execution_count": null,
   "id": "dad177e7-f3df-4e12-8dfc-ac57acb70e6a",
   "metadata": {},
   "outputs": [],
   "source": [
    "## Begin Solution\n",
    "\n",
    "\n",
    "\n",
    "## End Solution"
   ]
  },
  {
   "cell_type": "markdown",
   "id": "d9dcfaba-d95d-4a01-9c06-27ba8de355cf",
   "metadata": {
    "editable": false,
    "slideshow": {
     "slide_type": ""
    },
    "tags": []
   },
   "source": [
    "### Reflect on the Data\n",
    "\n",
    "1. What are the main patterns or trends you observe in your visualization? Describe what stands out to you. \n",
    "\n",
    "2. Based on these patterns, what key insight or conclusion can you draw about the data? Explain your reasoning. \n",
    "\n",
    "3. What is one question that your visualization raises for you about the data or the topic it represents?"
   ]
  },
  {
   "cell_type": "markdown",
   "id": "e2bf2a63-b703-44d2-926b-7fd04383e006",
   "metadata": {},
   "source": [
    "__Begin Reflection__\n",
    "\n",
    "1. Your Response\n",
    "2. Your Response\n",
    "3. Your Response\n",
    "\n",
    "__End Reflection__"
   ]
  }
 ],
 "metadata": {
  "kernelspec": {
   "display_name": "Python 3 (ipykernel)",
   "language": "python",
   "name": "python3"
  },
  "language_info": {
   "codemirror_mode": {
    "name": "ipython",
    "version": 3
   },
   "file_extension": ".py",
   "mimetype": "text/x-python",
   "name": "python",
   "nbconvert_exporter": "python",
   "pygments_lexer": "ipython3",
   "version": "3.12.5"
  }
 },
 "nbformat": 4,
 "nbformat_minor": 5
}
