{
 "cells": [
  {
   "cell_type": "markdown",
   "id": "11645f44-07ed-4571-bbc2-ab9bbd2f6d24",
   "metadata": {
    "editable": true,
    "slideshow": {
     "slide_type": ""
    },
    "tags": []
   },
   "source": [
    "# Your Info\n",
    "__Name__:\n",
    "\n",
    "__PDX Email__:\n",
    "\n",
    "__Collaborators__:"
   ]
  },
  {
   "cell_type": "markdown",
   "id": "acd1c89b-abbe-4d94-85dd-99a7aa6c1238",
   "metadata": {
    "editable": false,
    "nbgrader": {
     "grade": false,
     "grade_id": "cell-340718b4c927d492",
     "locked": true,
     "schema_version": 3,
     "solution": false,
     "task": false
    },
    "slideshow": {
     "slide_type": ""
    },
    "tags": []
   },
   "source": [
    "# Python Data Structures Workout\n",
    "\n",
    "This set of exercises provides an opportunity to practice working with Python's built-in data structures:\n",
    "\n",
    "* Lists\n",
    "* Sets\n",
    "* Tuples\n",
    "* Dictionaries\n",
    "  \n",
    "Carefully read each exercise and complete the task to the best of your ability."
   ]
  },
  {
   "cell_type": "markdown",
   "id": "c75dc5a2-fb13-4b58-8baf-af4f128a2b0a",
   "metadata": {
    "editable": false,
    "nbgrader": {
     "grade": false,
     "grade_id": "cell-2ed1f823fcae0dcc",
     "locked": true,
     "schema_version": 3,
     "solution": false,
     "task": false
    },
    "slideshow": {
     "slide_type": ""
    },
    "tags": []
   },
   "source": [
    "## 1. Workout 1: Lists"
   ]
  },
  {
   "cell_type": "markdown",
   "id": "6da3b22c-efe6-4c5d-a17f-55b659a35692",
   "metadata": {
    "editable": false,
    "nbgrader": {
     "grade": false,
     "grade_id": "cell-744f013d631b46f1",
     "locked": true,
     "schema_version": 3,
     "solution": false,
     "task": false
    },
    "slideshow": {
     "slide_type": ""
    },
    "tags": []
   },
   "source": [
    "#### 1. List Creation and Manipulation\n",
    "\n",
    "* Create a list named `numbers` containing the integers from 1 to 10 (inclusive).Use the `range()` function to generate the sequence of numbers, and then use the `list()` constructor to convert that sequence into a list.\n",
    "* Append the number 11 to the end of the `numbers` list.\n",
    "* Insert the number 0 at the beginning of the `numbers` list.\n",
    "* Remove the number 5 from the `numbers` list.  (Since the list contains integers, this refers to the integer 5, not the element at index 5.)\n",
    "* Reverse the order of the `numbers` list using slicing."
   ]
  },
  {
   "cell_type": "code",
   "execution_count": null,
   "id": "48af2a47-8bc8-4873-9f80-f19f9dbe4987",
   "metadata": {
    "editable": true,
    "nbgrader": {
     "grade": true,
     "grade_id": "list",
     "locked": false,
     "points": 0,
     "schema_version": 3,
     "solution": true,
     "task": false
    },
    "slideshow": {
     "slide_type": ""
    },
    "tags": []
   },
   "outputs": [],
   "source": [
    "\n",
    "\n",
    "\n",
    "\n",
    "\n",
    "\n",
    "\n",
    "\n",
    "\n"
   ]
  },
  {
   "cell_type": "markdown",
   "id": "ed8e2fa1-d474-4f7c-9a51-5a3207f4e87a",
   "metadata": {
    "editable": false,
    "nbgrader": {
     "grade": false,
     "grade_id": "listcomprehension",
     "locked": true,
     "schema_version": 3,
     "solution": false,
     "task": false
    },
    "slideshow": {
     "slide_type": ""
    },
    "tags": []
   },
   "source": [
    "#### 2. List Comprehension\n",
    "\n",
    "* Create a new list `squared_numbers` that contains the square of each number in the `numbers` list using list comprehension.\n",
    "* Create a new list `even_numbers` that contains only the even numbers from the `numbers` list using list comprehension.\n",
    "* Create a list `odd_squared` that contains the square of the odd numbers from the `numbers` list."
   ]
  },
  {
   "cell_type": "code",
   "execution_count": null,
   "id": "9909f6d5-a887-4f90-97d5-3fb3f9bc02f5",
   "metadata": {
    "nbgrader": {
     "grade": false,
     "grade_id": "cell-0af32d9a1784f282",
     "locked": false,
     "schema_version": 3,
     "solution": true,
     "task": false
    }
   },
   "outputs": [],
   "source": [
    "\n",
    "\n",
    "\n",
    "\n",
    "\n",
    "\n",
    "\n",
    "\n",
    "\n"
   ]
  },
  {
   "cell_type": "markdown",
   "id": "140886a0-7977-4316-9920-7b2798604012",
   "metadata": {
    "editable": false,
    "nbgrader": {
     "grade": false,
     "grade_id": "cell-d161c82ea64d6ac9",
     "locked": true,
     "schema_version": 3,
     "solution": false,
     "task": false
    },
    "slideshow": {
     "slide_type": ""
    },
    "tags": []
   },
   "source": [
    "#### 3. Slicing and Indexing\n",
    "\n",
    "* Use slicing to print the first three elements of the `numbers` list.\n",
    "* Use slicing to print the last two elements of the `numbers` list.\n",
    "* Use slicing to print every other element of the `numbers` list."
   ]
  },
  {
   "cell_type": "code",
   "execution_count": null,
   "id": "324beff4-a895-4c41-a8cd-5dae071b9a94",
   "metadata": {
    "editable": true,
    "nbgrader": {
     "grade": false,
     "grade_id": "cell-7cdd2607a02c3a58",
     "locked": true,
     "points": 0,
     "schema_version": 3,
     "solution": false,
     "task": true
    },
    "slideshow": {
     "slide_type": ""
    },
    "tags": []
   },
   "outputs": [],
   "source": [
    "\n",
    "\n",
    "\n",
    "\n",
    "\n",
    "\n",
    "\n",
    "\n",
    "\n"
   ]
  },
  {
   "cell_type": "markdown",
   "id": "78bcfb34-9c4d-4f03-b1f6-90eaeff37b13",
   "metadata": {
    "editable": false,
    "nbgrader": {
     "grade": false,
     "grade_id": "cell-555e4c7883cee340",
     "locked": true,
     "schema_version": 3,
     "solution": false,
     "task": false
    },
    "slideshow": {
     "slide_type": ""
    },
    "tags": []
   },
   "source": [
    "## Workout 2: Sets"
   ]
  },
  {
   "cell_type": "markdown",
   "id": "825f9fe7-55b8-4ff7-9673-08a94cf086cb",
   "metadata": {
    "editable": false,
    "slideshow": {
     "slide_type": ""
    },
    "tags": []
   },
   "source": [
    "#### 1. Set Creation and Operations\n",
    "\n",
    "* Create two sets using the `set()` constructor and `range()` function:\n",
    "\n",
    "    * `set1` containing `{1, 2, 3, 4, 5}`. \n",
    "    * `set2` containing `{4, 5, 6, 7, 8}`.\n",
    "\n",
    "* Find the union of `set1` and `set2`, and store the result in a new set named `union_set`. Print `union_set`.\n",
    "* Find the intersection of `set1` and `set2`, and store the result in a new set named `intersection_set`. Print `intersection_set`.\n",
    "* Find the difference of `set1` and `set2`, and store the result in a new set named `difference_set`. Print `difference_set`.\n",
    "* Find the symmetric difference of `set1` and `set2`, and store the result in a new set named `symmetric_difference_set`. Print `symmetric_difference_set`."
   ]
  },
  {
   "cell_type": "code",
   "execution_count": null,
   "id": "f28171d9-b816-423a-95c8-fe1acf1de95e",
   "metadata": {
    "editable": true,
    "nbgrader": {
     "grade": false,
     "grade_id": "cell-c5359a0955fcfa36",
     "locked": true,
     "points": 0,
     "schema_version": 3,
     "solution": false,
     "task": true
    },
    "slideshow": {
     "slide_type": ""
    },
    "tags": []
   },
   "outputs": [],
   "source": [
    "\n",
    "\n",
    "\n",
    "\n",
    "\n",
    "\n",
    "\n",
    "\n",
    "\n"
   ]
  },
  {
   "cell_type": "markdown",
   "id": "766d94bd-baea-4af3-b907-f26dd43a7184",
   "metadata": {
    "editable": false,
    "nbgrader": {
     "grade": false,
     "grade_id": "cell-9137d97d58c33e9b",
     "locked": true,
     "schema_version": 3,
     "solution": false,
     "task": false
    },
    "slideshow": {
     "slide_type": ""
    },
    "tags": []
   },
   "source": [
    "#### 2. Set Comprehension:\n",
    "\n",
    "* Using set comprehension, create a set named `set3` that contains the squares of the numbers from 1 to 10."
   ]
  },
  {
   "cell_type": "code",
   "execution_count": null,
   "id": "b88dc1fd-57c8-4595-a4c5-179b5d8ac5e9",
   "metadata": {
    "editable": true,
    "nbgrader": {
     "grade": false,
     "grade_id": "cell-bbef40c8990630f3",
     "locked": true,
     "points": 0,
     "schema_version": 3,
     "solution": false,
     "task": true
    },
    "slideshow": {
     "slide_type": ""
    },
    "tags": []
   },
   "outputs": [],
   "source": [
    "\n",
    "\n",
    "\n",
    "\n",
    "\n",
    "\n",
    "\n",
    "\n",
    "\n"
   ]
  },
  {
   "cell_type": "markdown",
   "id": "7ca9ad6b-73a1-4b17-b98a-803678fdbf32",
   "metadata": {
    "editable": false,
    "nbgrader": {
     "grade": false,
     "grade_id": "cell-a31df0b38b9400c7",
     "locked": true,
     "schema_version": 3,
     "solution": false,
     "task": false
    },
    "slideshow": {
     "slide_type": ""
    },
    "tags": []
   },
   "source": [
    "## Workout 3: Tuples"
   ]
  },
  {
   "cell_type": "markdown",
   "id": "80fd95bc-f287-4203-acf2-623f96b14755",
   "metadata": {
    "nbgrader": {
     "grade": false,
     "grade_id": "cell-8a94a3580cdb5299",
     "locked": true,
     "schema_version": 3,
     "solution": false,
     "task": false
    },
    "slideshow": {
     "slide_type": ""
    },
    "tags": []
   },
   "source": [
    "#### 1. Tuple Creation and Unpacking:\n",
    "\n",
    "* Import the `random` module.\n",
    "* Create a list called `daily_highs_list` representing 60 days of temperatures (in Fahrenheit) using the `list()` constructor and the `random.randint()` function.\n",
    "    * Use random integers between 40 and 90 (inclusive) to simulate the daily high temperatures.\n",
    "* Convert `daily_highs_list` to a tuple called `daily_highs_tuple`."
   ]
  },
  {
   "cell_type": "code",
   "execution_count": null,
   "id": "ad0ded47-ae7c-4f02-811f-7da9067050a9",
   "metadata": {
    "nbgrader": {
     "grade": false,
     "grade_id": "cell-85f1ee7cc29b9362",
     "locked": true,
     "points": 0,
     "schema_version": 3,
     "solution": false,
     "task": true
    }
   },
   "outputs": [],
   "source": [
    "\n",
    "\n",
    "\n",
    "\n",
    "\n",
    "\n",
    "\n",
    "\n",
    "\n"
   ]
  },
  {
   "cell_type": "markdown",
   "id": "3cc0a734-6d51-4f8c-bbef-807f8b095c26",
   "metadata": {
    "editable": false,
    "nbgrader": {
     "grade": false,
     "grade_id": "cell-a09ef44e54641efa",
     "locked": true,
     "schema_version": 3,
     "solution": false,
     "task": false
    },
    "slideshow": {
     "slide_type": ""
    },
    "tags": []
   },
   "source": [
    "#### 2. Tuple Operations\n",
    "\n",
    "* Perform the following operations on `daily_highs_tuple`:\n",
    "    * Count the number of times the value 85 appears in `daily_highs_tuple`.\n",
    "    * Try to modify the `daily_highs_tuple`. (This should cause an error)"
   ]
  },
  {
   "cell_type": "code",
   "execution_count": null,
   "id": "0b995157-ecb2-4783-bcb1-fa68afd1e401",
   "metadata": {
    "editable": true,
    "nbgrader": {
     "grade": false,
     "grade_id": "cell-231202e6a1947022",
     "locked": true,
     "points": 0,
     "schema_version": 3,
     "solution": false,
     "task": true
    },
    "slideshow": {
     "slide_type": ""
    },
    "tags": []
   },
   "outputs": [],
   "source": [
    "\n",
    "\n",
    "\n",
    "\n",
    "\n",
    "\n",
    "\n",
    "\n",
    "\n"
   ]
  },
  {
   "cell_type": "markdown",
   "id": "2794a69c-d386-495c-bedb-2faacabe34dc",
   "metadata": {
    "editable": false,
    "nbgrader": {
     "grade": false,
     "grade_id": "cell-27a001d9a267d954",
     "locked": true,
     "schema_version": 3,
     "solution": false,
     "task": false
    },
    "slideshow": {
     "slide_type": ""
    },
    "tags": []
   },
   "source": [
    "## Workout 4: Dictionaries"
   ]
  },
  {
   "cell_type": "markdown",
   "id": "e894c2bf-0c5e-41f0-b344-9d06ee193026",
   "metadata": {
    "editable": false,
    "nbgrader": {
     "grade": false,
     "grade_id": "cell-127509781972f5cf",
     "locked": true,
     "points": 0,
     "schema_version": 3,
     "solution": false,
     "task": true
    },
    "slideshow": {
     "slide_type": ""
    },
    "tags": []
   },
   "source": [
    "#### 1. Dictionary Creation and Access:\n",
    "\n",
    "* Create a dictionary named student with the following keys:\n",
    "    * `name`\n",
    "    * `major`\n",
    "    * `gpa`\n",
    "    * You may assign initial values of your choice to these keys.\n",
    "* Access and print the value associated with the key `name`.\n",
    "* Add a new key-value pair to the `student` dictionary for the key `city`.\n",
    "* Modify the value associated with an existing key, of your choice, in the `student` dictionary.\n",
    "* Delete one key-value pair, of your choice, from the `student` dictionary."
   ]
  },
  {
   "cell_type": "code",
   "execution_count": null,
   "id": "7ab79512-67f3-48b5-a18b-e65d3d89527b",
   "metadata": {
    "editable": true,
    "nbgrader": {
     "grade": false,
     "grade_id": "cell-6c2f168d78049a27",
     "locked": true,
     "points": 0,
     "schema_version": 3,
     "solution": false,
     "task": true
    },
    "slideshow": {
     "slide_type": ""
    },
    "tags": []
   },
   "outputs": [],
   "source": [
    "\n",
    "\n",
    "\n",
    "\n",
    "\n",
    "\n",
    "\n",
    "\n",
    "\n"
   ]
  },
  {
   "cell_type": "markdown",
   "id": "d65ba64d-ed43-40fd-92ee-cd8978cacb98",
   "metadata": {
    "nbgrader": {
     "grade": false,
     "grade_id": "cell-74c16b93d8a5152c",
     "locked": true,
     "schema_version": 3,
     "solution": false,
     "task": false
    },
    "slideshow": {
     "slide_type": ""
    },
    "tags": []
   },
   "source": [
    "#### 2. Dictionary Comprehension:\n",
    "\n",
    "* Create a dictionary named `squared_dict` where the keys are the numbers from 1 to 5 (inclusive), and the values are the squares of those numbers. Use dictionary comprehension."
   ]
  },
  {
   "cell_type": "code",
   "execution_count": null,
   "id": "e531b961-c736-466e-ae33-6638f4668a89",
   "metadata": {
    "editable": true,
    "nbgrader": {
     "grade": false,
     "grade_id": "cell-5791a236004e8a35",
     "locked": true,
     "points": 0,
     "schema_version": 3,
     "solution": false,
     "task": true
    },
    "slideshow": {
     "slide_type": ""
    },
    "tags": []
   },
   "outputs": [],
   "source": [
    "\n",
    "\n",
    "\n",
    "\n",
    "\n",
    "\n",
    "\n",
    "\n",
    "\n"
   ]
  },
  {
   "cell_type": "markdown",
   "id": "c8210296-8ade-4b51-a0c6-23bb25a74f3e",
   "metadata": {
    "editable": false,
    "nbgrader": {
     "grade": false,
     "grade_id": "cell-74c16b93d8a5152c",
     "locked": true,
     "schema_version": 3,
     "solution": false,
     "task": false
    },
    "slideshow": {
     "slide_type": ""
    },
    "tags": []
   },
   "source": [
    "#### 3. Dictionary Creation from a List of Tuples\n",
    "\n",
    "Given the following list of tuples:\n",
    "  \n",
    "```python\n",
    "list_of_tuples = [(\"name\", \"Alice\"), (\"major\", \"Computer Science\"), (\"gpa\", 3.8)]\n",
    "```\n",
    "\n",
    "Using the `dict()` constructor, create a dictionary named `tuple_dict` from the list, where the first element of each tuple is the key and the second element is the value."
   ]
  },
  {
   "cell_type": "code",
   "execution_count": null,
   "id": "7ce23155-899a-4653-bb42-553c2a1afb85",
   "metadata": {
    "editable": true,
    "slideshow": {
     "slide_type": ""
    },
    "tags": []
   },
   "outputs": [],
   "source": [
    "\n",
    "\n",
    "\n",
    "\n",
    "\n",
    "\n",
    "\n",
    "\n",
    "\n"
   ]
  },
  {
   "cell_type": "markdown",
   "id": "db3d553c-7c8c-4854-88b4-959cf7e89940",
   "metadata": {
    "editable": false,
    "slideshow": {
     "slide_type": ""
    },
    "tags": []
   },
   "source": [
    "#### 3. Dictionary Methods:\n",
    "\n",
    "Without using loops, print the following from `tuple_dict`, using dictionary methods:\n",
    "* All the keys\n",
    "* All the values\n",
    "* All the key-value pairs"
   ]
  },
  {
   "cell_type": "code",
   "execution_count": null,
   "id": "5d61c3ad-5568-4b3d-83da-2eb77a02faa7",
   "metadata": {
    "editable": true,
    "nbgrader": {
     "grade": false,
     "grade_id": "cell-2ee9c2eff13c4dcd",
     "locked": true,
     "points": 0,
     "schema_version": 3,
     "solution": false,
     "task": true
    },
    "slideshow": {
     "slide_type": ""
    },
    "tags": []
   },
   "outputs": [],
   "source": [
    "\n",
    "\n",
    "\n",
    "\n",
    "\n",
    "\n",
    "\n",
    "\n",
    "\n"
   ]
  },
  {
   "cell_type": "markdown",
   "id": "91fdbd3c-450b-4d88-8b7a-1b2b0c4c1e2d",
   "metadata": {
    "editable": false,
    "nbgrader": {
     "grade": false,
     "grade_id": "cell-2fe2325df62c67e0",
     "locked": true,
     "schema_version": 3,
     "solution": false,
     "task": false
    },
    "slideshow": {
     "slide_type": ""
    },
    "tags": []
   },
   "source": [
    "### Submitting Your Assignment\n",
    "\n",
    "Please follow these steps to submit your work:\n",
    "\n",
    "1. Ensure your name and the names of any collaborators are clearly stated in the [Your Info](#Your-Info) section at the top of the notebook.\n",
    "2. Download your completed notebook as a `.ipynb` file.\n",
    "3. Upload this `.ipynb` file to the designated assignment submission area in Canvas."
   ]
  }
 ],
 "metadata": {
  "kernelspec": {
   "display_name": "Python 3 (ipykernel)",
   "language": "python",
   "name": "python3"
  },
  "language_info": {
   "codemirror_mode": {
    "name": "ipython",
    "version": 3
   },
   "file_extension": ".py",
   "mimetype": "text/x-python",
   "name": "python",
   "nbconvert_exporter": "python",
   "pygments_lexer": "ipython3",
   "version": "3.12.5"
  }
 },
 "nbformat": 4,
 "nbformat_minor": 5
}
