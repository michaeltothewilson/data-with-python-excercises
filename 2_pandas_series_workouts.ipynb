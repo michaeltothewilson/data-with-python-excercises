{
 "cells": [
  {
   "cell_type": "markdown",
   "id": "9cb6be36-1373-4a4e-be6e-39b7aee4c6b7",
   "metadata": {
    "editable": true,
    "slideshow": {
     "slide_type": ""
    },
    "tags": []
   },
   "source": [
    "# Your Info\n",
    "__Name__:\n",
    "\n",
    "__PDX Email__:\n",
    "\n",
    "__Collaborators__:"
   ]
  },
  {
   "cell_type": "markdown",
   "id": "dbc2765d-765b-47c5-8226-763f777a0de6",
   "metadata": {
    "editable": false,
    "slideshow": {
     "slide_type": ""
    },
    "tags": []
   },
   "source": [
    "# Pandas Series Workouts\n",
    "\n",
    "A collection of exercises designed to build your proficiency in working with Pandas Series, the fundamental one-dimensional labeled array in the Pandas library. \n",
    "\n",
    "These workouts will cover creating, accessing, manipulating, and analyzing data within Series objects."
   ]
  },
  {
   "cell_type": "markdown",
   "id": "bac48a71-d326-4edb-826c-928ef475f6b8",
   "metadata": {
    "editable": false,
    "slideshow": {
     "slide_type": ""
    },
    "tags": []
   },
   "source": [
    "# Workout 0 - Importing the Tools\n",
    "\n",
    "* Import the `pandas` library using the `pd` alias"
   ]
  },
  {
   "cell_type": "code",
   "execution_count": null,
   "id": "3bcd43a6-747d-4ca3-981e-8e0c5e9e9fe7",
   "metadata": {},
   "outputs": [],
   "source": [
    "### Begin Solution\n",
    "\n",
    "\n",
    "\n",
    "### End Solution"
   ]
  },
  {
   "cell_type": "markdown",
   "id": "afc15a4e-fdcc-4171-b243-cf4c9a800347",
   "metadata": {
    "editable": false,
    "slideshow": {
     "slide_type": ""
    },
    "tags": []
   },
   "source": [
    "# Workout 1 - Pandas Series"
   ]
  },
  {
   "cell_type": "markdown",
   "id": "e919f9da-232d-433f-bde4-088de3e19deb",
   "metadata": {
    "editable": false,
    "slideshow": {
     "slide_type": ""
    },
    "tags": []
   },
   "source": [
    "## Exercise 1 - Create and Explore a Series\n",
    "\n",
    "__The Setup__\n",
    "\n",
    "* Create a Pandas Series named `fruit_series` with the following data and index:\n",
    "\n",
    "    * __Data__: 5 random integers between 5 and 25 (inclusive).\n",
    "    * __Index__: `Apple`, `Banana`, `Orange`, `Grape`, `Watermelon`.\n",
    "        * (you can use `str.split()` to create the index list)"
   ]
  },
  {
   "cell_type": "code",
   "execution_count": null,
   "id": "5f99be4f-bd35-492a-84cb-c882ab00dffa",
   "metadata": {},
   "outputs": [],
   "source": [
    "### Begin Solution\n",
    "\n",
    "\n",
    "\n",
    "\n",
    "\n",
    "### End Solution"
   ]
  },
  {
   "cell_type": "markdown",
   "id": "6463f9a7-9397-42de-b184-a14182cba3c1",
   "metadata": {
    "editable": false,
    "slideshow": {
     "slide_type": ""
    },
    "tags": []
   },
   "source": [
    "__Your Task__\n",
    "\n",
    "* Print the quantity of `'Orange'`.\n",
    "* Use `.iloc` to access the quantity of the first item in the Series.\n",
    "* Print the index of the Series.\n",
    "* Print the values of the Series.\n",
    "* Check if `'Banana'` is present in the index."
   ]
  },
  {
   "cell_type": "code",
   "execution_count": null,
   "id": "487af889-6181-41a3-9703-8211b325ca86",
   "metadata": {},
   "outputs": [],
   "source": [
    "### Begin Solution\n",
    "\n",
    "\n",
    "\n",
    "\n",
    "\n",
    "\n",
    "### End Solution"
   ]
  },
  {
   "cell_type": "markdown",
   "id": "92357547-bd1f-4480-8048-47c43a81bb54",
   "metadata": {
    "editable": false,
    "slideshow": {
     "slide_type": ""
    },
    "tags": []
   },
   "source": [
    "## Exercise 2 - Series Operations\n",
    "\n",
    "__The Setup__\n",
    "\n",
    "Creatte a Pandas Series named `prices_series` with the following data and index:\n",
    "* __Data:__ 5 random floats between 0.25 and 2.00 (inclusive).\n",
    "* __Index:__ Apple, Banana, Orange, Grape, Watermelon.\n"
   ]
  },
  {
   "cell_type": "code",
   "execution_count": null,
   "id": "1e45b36f-a6d1-40cb-a978-5ed011721aa9",
   "metadata": {},
   "outputs": [],
   "source": [
    "### Begin Solution\n",
    "\n",
    "\n",
    "\n",
    "\n",
    "\n",
    "\n",
    "\n",
    "\n",
    "### End Solution"
   ]
  },
  {
   "cell_type": "markdown",
   "id": "7ed527de-8d73-4a1f-ab4a-439528a3d61a",
   "metadata": {
    "editable": false,
    "slideshow": {
     "slide_type": ""
    },
    "tags": []
   },
   "source": [
    "__Your Task__\n",
    "\n",
    "* Multiply the `fruit_series` (quantities) by the `prices_series` to get the total value of each fruit.  Store the result in a new Series called `value_series`.\n",
    "* Print the `value_series`."
   ]
  },
  {
   "cell_type": "code",
   "execution_count": null,
   "id": "53896847-b107-42bd-b163-7f42dfc9c94f",
   "metadata": {},
   "outputs": [],
   "source": [
    "### Begin Solution\n",
    "\n",
    "\n",
    "\n",
    "\n",
    "\n",
    "\n",
    "\n",
    "\n",
    "### End Solution"
   ]
  },
  {
   "cell_type": "markdown",
   "id": "df9c9222-a30b-4962-a8c8-a0dc9045568a",
   "metadata": {
    "editable": false,
    "slideshow": {
     "slide_type": ""
    },
    "tags": []
   },
   "source": [
    "__Your Task Continued__\n",
    "\n",
    "* Calculate the total value of all the fruits and print the result.\n",
    "* Find the fruit with the highest total value."
   ]
  },
  {
   "cell_type": "code",
   "execution_count": null,
   "id": "013400bc-a800-428b-a8fa-f9128ef7003a",
   "metadata": {},
   "outputs": [],
   "source": [
    "### Begin Solution\n",
    "\n",
    "\n",
    "\n",
    "\n",
    "\n",
    "\n",
    "\n",
    "\n",
    "### End Solution"
   ]
  },
  {
   "cell_type": "markdown",
   "id": "3a089aba-f577-413a-a269-0e42de559a84",
   "metadata": {
    "editable": false,
    "slideshow": {
     "slide_type": ""
    },
    "tags": []
   },
   "source": [
    "## Exercise 3 - Filtering Modifying a Series\n",
    "\n",
    "__Your Task__\n",
    "\n",
    "1. Using the `fruit_series` from Exercise 1, filter the Series to include only the fruits with a quantity greater than 7.\n",
    "\n",
    "2. Increase the quantity of the first item in fruit_series by 5.\n",
    "\n",
    "3. Add a new entry to `fruit_series` for `'Pineapple'` with a quantity of 12.\n",
    "\n",
    "4. Delete the entry for the third item from fruit_series.\n",
    "\n",
    "5. Reset the index of the `fruit_series` and print the updated series.\n"
   ]
  },
  {
   "cell_type": "code",
   "execution_count": null,
   "id": "2181c064-2c15-4b03-a8c6-eea7345613a9",
   "metadata": {},
   "outputs": [],
   "source": [
    "### Begin Solution\n",
    "\n",
    "\n",
    "\n",
    "\n",
    "\n",
    "\n",
    "\n",
    "\n",
    "\n",
    "\n",
    "\n",
    "\n",
    "\n",
    "### End Solution"
   ]
  },
  {
   "cell_type": "markdown",
   "id": "91670b15-9d26-436a-b264-8ab7480df9f8",
   "metadata": {
    "editable": false,
    "slideshow": {
     "slide_type": ""
    },
    "tags": []
   },
   "source": [
    "## Exercise 4 - Test Scores\n",
    "\n",
    "__The Setup__\n",
    "\n",
    "* Generate a Pandas Series named `monthly_scores`. \n",
    "\n",
    "* This Series should contain 10 randomly generated integer values, each representing a student's score on a monthly exam. These scores should be between 70 and 100 (inclusive). \n",
    "\n",
    "* The index for this Series should be the names of the months corresponding to a typical academic year, starting with `September` and concluding with `June`."
   ]
  },
  {
   "cell_type": "code",
   "execution_count": null,
   "id": "36659a73-eacc-4d7d-b374-b4606bce508c",
   "metadata": {},
   "outputs": [],
   "source": [
    "### Begin Solution\n",
    "\n",
    "\n",
    "\n",
    "\n",
    "\n",
    "\n",
    "\n",
    "\n",
    "### End Solution"
   ]
  },
  {
   "cell_type": "markdown",
   "id": "acbde04e-4883-4744-b775-fc49e5ff2905",
   "metadata": {
    "editable": false,
    "slideshow": {
     "slide_type": ""
    },
    "tags": []
   },
   "source": [
    "__Your Task__\n",
    "\n",
    "Using the monthly_scores Series you created, perform the following analysis:\n",
    "\n",
    "* Calculate and display the student's overall average test score across all ten months.\n",
    "* Determine and display the student's average test score for the first five months of the academic year (September through January).\n",
    "* Determine and display the student's average test score for the second five months of the academic year (February through June).\n",
    "* Compare the average scores from the first and second halves of the year.\n",
    "    * Calculate and display the amount of improvement."
   ]
  },
  {
   "cell_type": "code",
   "execution_count": null,
   "id": "ab5af078-8835-4153-8441-2a3a2a61a2b8",
   "metadata": {},
   "outputs": [],
   "source": [
    "### Begin Solution\n",
    "\n",
    "\n",
    "\n",
    "\n",
    "\n",
    "\n",
    "\n",
    "\n",
    "\n",
    "\n",
    "\n",
    "\n",
    "\n",
    "### End Solution"
   ]
  },
  {
   "cell_type": "markdown",
   "id": "030fd1b7-cf90-45de-a4a9-10b4fad89e9c",
   "metadata": {
    "editable": false,
    "slideshow": {
     "slide_type": ""
    },
    "tags": []
   },
   "source": [
    "## Exercise 5 - Scaling Test Scores\n",
    "\n",
    "__The Setup__\n",
    "\n",
    "Let's simulate a year of monthly test scores for a student, from September through June. \n",
    "\n",
    "* Create a Pandas Series called `monthly_raw_scores` containing 10 randomly generated integer values.\n",
    "* Each of these values will represent a raw test score, ranging from 40 to 60 (inclusive).\n",
    "* The index of this Series will be the names of the months, in order from `September` to `June`."
   ]
  },
  {
   "cell_type": "code",
   "execution_count": null,
   "id": "ec32d025-9185-4633-a3c9-251a012c8093",
   "metadata": {},
   "outputs": [],
   "source": [
    "### Begin Solution\n",
    "\n",
    "\n",
    "\n",
    "\n",
    "\n",
    "\n",
    "\n",
    "\n",
    "### End Solution"
   ]
  },
  {
   "cell_type": "markdown",
   "id": "445efe80-7b03-4143-83c8-6b9ac5d53d6b",
   "metadata": {
    "editable": false,
    "slideshow": {
     "slide_type": ""
    },
    "tags": []
   },
   "source": [
    "__Background Information__\n",
    "\n",
    "Sometimes, an exam turns out to be more difficult than the instructor anticipated, potentially leading to lower overall scores. \n",
    "\n",
    "To avoid a situation where a large portion of the class might fail, instructors often \"curve\" the grades. This adjustment aims to raise the average score of the class. \n",
    "\n",
    "A common method involves shifting all scores upwards by a certain amount, often based on the difference between the desired average and the actual average.\n",
    "\n",
    "__Your Task__\n",
    "\n",
    "You have an existing Pandas Series named `monthly_raw_scores` containing the student's initial test scores. Your goal is to simulate a score curving process and store the adjusted scores in a new Pandas Series called `curved_scores`.\n",
    "\n",
    "1. Calculate the average (mean) of the scores in the `monthly_raw_scores Series`.\n",
    "2. Determine the difference between a target average of 80 and the calculated mean.\n",
    "3. Add this difference to each individual score in the `monthly_raw_scores` Series to obtain the curved scores.\n",
    "4. Create a new Pandas Series named `curved_scores` containing these adjusted values. This new Series should have the same index (month names) as the original `monthly_raw_scores`.\n",
    "5. Output the `curved_scores` series."
   ]
  },
  {
   "cell_type": "code",
   "execution_count": null,
   "id": "d58a0331-534e-42d7-a0df-2dc6838ce3df",
   "metadata": {},
   "outputs": [],
   "source": [
    "### Begin Solution\n",
    "\n",
    "\n",
    "\n",
    "### End Solution"
   ]
  },
  {
   "cell_type": "markdown",
   "id": "3d9194dd-0ec0-47a8-bb21-d45c502c05d3",
   "metadata": {
    "editable": false,
    "slideshow": {
     "slide_type": ""
    },
    "tags": []
   },
   "source": [
    "## Exercise 6 - Monday Temperatures\n",
    "\n",
    "__The Setup__\n",
    "\n",
    "Create a Pandas Series named `weekly_temperatures`.\n",
    "This Series will contain 28 temperature readings in Celsius.\n",
    "\n",
    "* Each temperature value should be an integer.\n",
    "    * The range for these integer temperatures is from 9 to 20 degrees Celsius (inclusive).\n",
    "* The index for the Series will represent four consecutive weeks.\n",
    "    * The days of the week will be the index labels, starting with `Sun` and continuing through `Sat`.\n",
    "* This day sequence will repeat for each of the four weeks until all 28 temperature readings have a corresponding index label.\n",
    "\n",
    "Output the series."
   ]
  },
  {
   "cell_type": "code",
   "execution_count": null,
   "id": "4bc6a80f-249c-4df3-aea0-ad5849ce0cca",
   "metadata": {},
   "outputs": [],
   "source": [
    "### Begin Solution\n",
    "\n",
    "\n",
    "\n",
    "\n",
    "\n",
    "\n",
    "\n",
    "\n",
    "### End Solution"
   ]
  },
  {
   "cell_type": "markdown",
   "id": "7d20b22a-e3d2-4d4e-9bc5-2ea65e18aa8a",
   "metadata": {
    "editable": false,
    "slideshow": {
     "slide_type": ""
    },
    "tags": []
   },
   "source": [
    "__Your Task__\n",
    "\n",
    "Using the `weekly_temperatures` Series you've created, write Python code to determine the answers to the following questions:\n",
    "\n",
    "1. What was the average (mean) temperature recorded on all the Mondays within the four-week period?\n",
    "2. What was the average temperature recorded on all weekend days (Saturdays and Sundays) during the four-week period?"
   ]
  },
  {
   "cell_type": "code",
   "execution_count": null,
   "id": "b89225a8-1890-49f2-80e9-8f297bc2764f",
   "metadata": {},
   "outputs": [],
   "source": [
    "### Begin Solution\n",
    "\n",
    "\n",
    "\n",
    "\n",
    "\n",
    "\n",
    "\n",
    "\n",
    "### End Solution"
   ]
  },
  {
   "cell_type": "markdown",
   "id": "1b00abcc-277b-4b07-8e10-8144442af048",
   "metadata": {
    "editable": false,
    "slideshow": {
     "slide_type": ""
    },
    "tags": []
   },
   "source": [
    "## Exercise 7 - Passenger Frequency\n",
    "\n",
    "__The Setup__\n",
    "\n",
    "In this exercise, we'll be working with real-world data stored in a single-column `CSV` file named `data/taxi-passenger-count.csv`. This file, contains a sample of 100,000 taxi rides from New York City in 2015. The single column in the `CSV` represents the number of passengers in each individual ride.\n",
    "\n",
    "__Loading the Data__\n",
    "\n",
    "* Use the `pd.read_csv()` function to read the CSV file.\n",
    "* Set the `header` argument to `None` within `pd.read_csv()` to ensure the first row is treated as data.\n",
    "* Apply the `.squeeze()` method to the DataFrame returned by `pd.read_csv()` to convert it into a Pandas Series.\n",
    "* Assign this resulting Series to the variable name `passenger_counts`. This Series will contain the passenger count for each of the 100,000 rides.\n",
    "* Output the `passenger_counts` series."
   ]
  },
  {
   "cell_type": "code",
   "execution_count": null,
   "id": "562df4e9-7bea-4c60-ba09-1122745230ae",
   "metadata": {},
   "outputs": [],
   "source": [
    "### Begin Solution\n",
    "\n",
    "\n",
    "\n",
    "\n",
    "\n",
    "\n",
    "\n",
    "\n",
    "### End Solution"
   ]
  },
  {
   "cell_type": "markdown",
   "id": "ca0cbd08-0450-488c-980b-9ec55c7c6425",
   "metadata": {
    "editable": false,
    "slideshow": {
     "slide_type": ""
    },
    "tags": []
   },
   "source": [
    "__Your Task__\n",
    "\n",
    "Using the Pandas Series you've created containing the passenger counts for 100,000 taxi rides:\n",
    "\n",
    "* Calculate the number of rides that had exactly one passenger.\n",
    "* Calculate the number of rides that had the theoretical maximum of six passengers.\n",
    "* Determine the percentage of the total number of rides that had only one passenger.\n",
    "* Determine the percentage of the total number of rides that had six passengers.\n",
    "* Display both of these percentages clearly."
   ]
  },
  {
   "cell_type": "code",
   "execution_count": null,
   "id": "f1fb263d-be80-446d-892e-2a379cf4b1ec",
   "metadata": {},
   "outputs": [],
   "source": [
    "### Begin Solution\n",
    "\n",
    "\n",
    "\n",
    "\n",
    "\n",
    "\n",
    "\n",
    "\n",
    "### End Solution"
   ]
  },
  {
   "cell_type": "markdown",
   "id": "b621f56d-0442-4e42-a9ff-e1bce7fc39af",
   "metadata": {
    "editable": false,
    "slideshow": {
     "slide_type": ""
    },
    "tags": []
   },
   "source": [
    "# Useful References\n",
    "\n",
    "\n",
    "* `pd.Series.mean()`: Calculates the average value of the elements in the Series \n",
    "* `pd.Series.max()`: Returns the largest value within the Series.\n",
    "* `pd.Series.min()`: Returns the smallest value within the Series.\n",
    "* `pd.Series.idxmin()`: Returns the index label of the first occurrence of the minimum value\n",
    "* `pd.Series.idxmax()`: Returns the index label of the first occurrence of the maximum value.\n",
    "* `series.index`: Returns the Index object of the Series. This object contains the labels for each of the elements in the Series.\n",
    "* `series.values`: Returns a NumPy array representing the data (the values) in the Series.\n",
    "* `series.loc`: Accesses a group of rows and columns by label(s) or a boolean array.\n",
    "* `series.iloc`: Accesses a group of rows and columns by integer position(s).\n",
    "* `series.round()`: Rounds each value in the Series to a specified number of decimal places.\n",
    "* `pd.read_csv()`: Reads data from a comma-separated values (CSV) file into a DataFrame.\n",
    "* `.squeeze()`: Converts a single-column DataFrame or a single-row DataFrame to a Series. When used with `pd.read_csv()`, it can directly return a Series if the data has only one column. \n",
    "* `str.split()`: A built-in Python string method that splits a string into a list of substrings based on a specified delimiter. \n",
    "\n",
    "For more in-depth information on the topics we've discussed and many others, you can visit the official Pandas documentation here:\n",
    "\n",
    "[https://pandas.pydata.org/docs/](https://pandas.pydata.org/docs/)"
   ]
  },
  {
   "cell_type": "markdown",
   "id": "13eb4070-4c5c-4b39-bdd1-2fd5d2867ec5",
   "metadata": {
    "editable": false,
    "slideshow": {
     "slide_type": ""
    },
    "tags": []
   },
   "source": [
    "### Submitting Your Assignment\n",
    "\n",
    "Please follow these steps to submit your work:\n",
    "\n",
    "1. Ensure your name and the names of any collaborators are clearly stated in the [Your Info](#Your-Info) section at the top of the notebook.\n",
    "2. Download your completed notebook as a `.ipynb` file.\n",
    "3. Upload this `.ipynb` file to the designated assignment submission area in Canvas."
   ]
  }
 ],
 "metadata": {
  "kernelspec": {
   "display_name": "Python 3 (ipykernel)",
   "language": "python",
   "name": "python3"
  },
  "language_info": {
   "codemirror_mode": {
    "name": "ipython",
    "version": 3
   },
   "file_extension": ".py",
   "mimetype": "text/x-python",
   "name": "python",
   "nbconvert_exporter": "python",
   "pygments_lexer": "ipython3",
   "version": "3.12.5"
  }
 },
 "nbformat": 4,
 "nbformat_minor": 5
}
