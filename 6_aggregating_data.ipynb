{
 "cells": [
  {
   "cell_type": "markdown",
   "id": "fddf30e0-37c3-4b6b-962e-086b300220bd",
   "metadata": {},
   "source": [
    "# Your Info\n",
    "__Name:__\n",
    "\n",
    "__PDX Email:__\n",
    "\n",
    "__Collaborators:__"
   ]
  },
  {
   "cell_type": "markdown",
   "id": "b24501ce-8cce-4b3b-957b-5d8b84ab00ef",
   "metadata": {},
   "source": [
    "# Workout 6- Aggregating Data\n",
    "\n",
    "The following exercises will focus on aggregating data"
   ]
  },
  {
   "cell_type": "markdown",
   "id": "88f8b3dc-fd1c-4223-9731-64b6308de967",
   "metadata": {},
   "source": [
    "# About the Dataset\n",
    "\n",
    "This activity will explore public Airbnb dataset containing 30,478 Airbnb listings in New York City.\n",
    "\n",
    "* source - [Inside Airbnb](https://insideairbnb.com/get-the-data/)\n",
    "* file path - `data/airbnb.xlsx`\n",
    "\n",
    "A few of of the columns included are:\n",
    "\n",
    "* __Host Since__: Start date of the host\n",
    "* __Name__: Description of the Property\n",
    "* __Neighbourhood__: The property neighborhood\n",
    "* __Property Type__: The type of property (Apartment, House, etc)\n",
    "* __Room Type__: The type of room (Entire Home, Prive room, etc)\n",
    "* __Price__: The daily price of the property"
   ]
  },
  {
   "cell_type": "markdown",
   "id": "485740db-819d-486f-b207-57024ea2c702",
   "metadata": {},
   "source": [
    "# 0 - Importing the tools \n",
    "\n",
    "* Import `pandas` as `pd`"
   ]
  },
  {
   "cell_type": "code",
   "execution_count": null,
   "id": "1c0368fd-98c0-40a0-bc7e-e3c6d2efe966",
   "metadata": {},
   "outputs": [],
   "source": [
    "## Begin Solution\n",
    "\n",
    "\n",
    "## End Solution"
   ]
  },
  {
   "cell_type": "markdown",
   "id": "93ad15a3-11d2-4ec3-ab25-cbf28d335823",
   "metadata": {},
   "source": [
    "# 1 - Load the data \n",
    "\n",
    "Load the airbnb data into a dataframe named `df`"
   ]
  },
  {
   "cell_type": "code",
   "execution_count": null,
   "id": "a386cf5c-4c7f-4edd-a6f0-1369bbe666f6",
   "metadata": {},
   "outputs": [],
   "source": [
    "## Begin Solution\n",
    "\n",
    "\n",
    "## End Solution"
   ]
  },
  {
   "cell_type": "markdown",
   "id": "3df42431-e2a2-438c-ba0e-aa0b619a71c2",
   "metadata": {},
   "source": [
    "# 2 - Preview the Data\n",
    "\n",
    "Output the first 5 rows of data"
   ]
  },
  {
   "cell_type": "code",
   "execution_count": null,
   "id": "8e657e1e-162d-4c63-98e5-f12198e792dd",
   "metadata": {
    "scrolled": true
   },
   "outputs": [],
   "source": [
    "## Begin Solution\n",
    "\n",
    "\n",
    "## End Solution"
   ]
  },
  {
   "cell_type": "markdown",
   "id": "121f563e-c878-4c01-b511-c5fe262a459d",
   "metadata": {},
   "source": [
    "# 3 - Clean the Data \n",
    "\n",
    "Fix column names for consistency and remove leading/trailing spaces."
   ]
  },
  {
   "cell_type": "code",
   "execution_count": null,
   "id": "acd2af34-8acf-4b40-87fb-ad1fc25cb6ef",
   "metadata": {},
   "outputs": [],
   "source": [
    "## Begin Solution\n",
    "\n",
    "\n",
    "## End Solution"
   ]
  },
  {
   "cell_type": "markdown",
   "id": "a3af33b6-6b86-4ca0-b179-395a5f87ef55",
   "metadata": {},
   "source": [
    "# 4 - Transform the Data\n",
    "Convert the `host since` column to `datetime` object."
   ]
  },
  {
   "cell_type": "code",
   "execution_count": null,
   "id": "8435559c-0aec-4e6e-8311-000691c20f5f",
   "metadata": {},
   "outputs": [],
   "source": [
    "## Begin Solution\n",
    "\n",
    "\n",
    "## End Solution"
   ]
  },
  {
   "cell_type": "markdown",
   "id": "faff15ae-d91e-43b7-b715-716e465d925f",
   "metadata": {},
   "source": [
    "# 4 - Average Price by Neighborhood\n",
    "\n",
    "Group by `neighbourhood` and find the average `price`."
   ]
  },
  {
   "cell_type": "code",
   "execution_count": null,
   "id": "5ab17f88-941b-4ac5-9c01-7a5059dbbd3c",
   "metadata": {},
   "outputs": [],
   "source": [
    "## Begin Solution\n",
    "\n",
    "\n",
    "\n",
    "## End Solution"
   ]
  },
  {
   "cell_type": "markdown",
   "id": "460fef52-55c2-42ba-995c-5373cb225033",
   "metadata": {},
   "source": [
    "# 5 - Number of Listings by Property Type\n",
    "\n",
    "Group by property type and count the number of listings."
   ]
  },
  {
   "cell_type": "code",
   "execution_count": null,
   "id": "a18c762f-5e33-4a6e-b5c0-e664e8c5df9a",
   "metadata": {},
   "outputs": [],
   "source": [
    "## Begin Solution\n",
    "\n",
    "\n",
    "## End Solution"
   ]
  },
  {
   "cell_type": "markdown",
   "id": "7005083d-5f46-47bf-9b17-fab3c376a393",
   "metadata": {},
   "source": [
    "# 6 - Maximum Number of Reviews by Room Type \n",
    "\n",
    "Group by `room type` and find the maximum `number of reviews`."
   ]
  },
  {
   "cell_type": "code",
   "execution_count": null,
   "id": "5f79b8a0-ac7d-47ec-abb9-fffb0ae67466",
   "metadata": {},
   "outputs": [],
   "source": [
    "## Begin Solution\n",
    "\n",
    "\n",
    "## End Solution"
   ]
  },
  {
   "cell_type": "markdown",
   "id": "bcd54e11-89c6-4eea-9343-e544c98e579f",
   "metadata": {},
   "source": [
    "# 7 - Average Review Score Rating by Neighborhood\n",
    "\n",
    "Group by `neighbourhood` and calculate the average review scores rating."
   ]
  },
  {
   "cell_type": "code",
   "execution_count": null,
   "id": "e9365504-d7dd-4398-a603-c1d94ffe1d75",
   "metadata": {},
   "outputs": [],
   "source": [
    "## Begin Solution\n",
    "\n",
    "\n",
    "## End Solution"
   ]
  },
  {
   "cell_type": "markdown",
   "id": "df068e48-b3f8-4a02-9c94-bf978a0d904f",
   "metadata": {},
   "source": [
    "# 8 - Total Beds in each Neighborhood\n",
    "\n",
    "Find the total number of beds in each `neighbourhood`"
   ]
  },
  {
   "cell_type": "code",
   "execution_count": null,
   "id": "ec8249e0-d2eb-4877-bee4-69ac7aac268a",
   "metadata": {},
   "outputs": [],
   "source": [
    "## Begin Solution\n",
    "\n",
    "\n",
    "## End Solution"
   ]
  },
  {
   "cell_type": "markdown",
   "id": "48a4e7f7-d881-4457-9149-de7d27b6a5fa",
   "metadata": {},
   "source": [
    "# 9 - Distinct Property Types by Neighborhood \n",
    "\n",
    "Group by `neighbourhood` and count the number of distinct property types."
   ]
  },
  {
   "cell_type": "code",
   "execution_count": null,
   "id": "7cd8768a-908b-485d-b241-8111ee5b2c2c",
   "metadata": {},
   "outputs": [],
   "source": [
    "## Begin Solution\n",
    "\n",
    "\n",
    "## End Solution"
   ]
  },
  {
   "cell_type": "markdown",
   "id": "38373723-fc65-455a-8f3a-b2439c5b4c07",
   "metadata": {},
   "source": [
    "# 10 - One Column, Multiple Aggregations \n",
    "\n",
    "Group by `neighbourhood` and perform multiple aggregations on the `price` column: find the min, max, and mean."
   ]
  },
  {
   "cell_type": "code",
   "execution_count": null,
   "id": "d07b8a2e-33e7-47d6-92a6-7d29fa58c48b",
   "metadata": {},
   "outputs": [],
   "source": [
    "## Begin Solution\n",
    "\n",
    "\n",
    "## End Solution"
   ]
  },
  {
   "cell_type": "markdown",
   "id": "b0b06a16-f635-4acf-a5fb-262fff1245b0",
   "metadata": {},
   "source": [
    "# 11 - Multiple Columns, Different Aggregations\n",
    "\n",
    "Group by `neighbourhood` and perform different aggregations on different columns:\n",
    "* Find the average `price`\n",
    "* Find the maximum `number of reviews`"
   ]
  },
  {
   "cell_type": "code",
   "execution_count": null,
   "id": "c1936497-9e72-47c3-bb0e-6c280c29d7ca",
   "metadata": {},
   "outputs": [],
   "source": [
    "## Begin Solution\n",
    "\n",
    "\n",
    "\n",
    "## End Solution"
   ]
  },
  {
   "cell_type": "markdown",
   "id": "8560da90-ec96-4c3c-8d62-78ab6545a30e",
   "metadata": {},
   "source": [
    "# 12 - Submitting Your Assignment\n",
    "\n",
    "Please follow these steps to submit your work:\n",
    "\n",
    "1. Ensure your name and the names of any collaborators are clearly stated in the [Your Info](#Your-Info) section at the top of the notebook.\n",
    "2. Download your completed notebook as a `.ipynb` file.\n",
    "3. Upload this `.ipynb` file to the designated assignment submission area in Canvas."
   ]
  }
 ],
 "metadata": {
  "kernelspec": {
   "display_name": "Python 3 (ipykernel)",
   "language": "python",
   "name": "python3"
  },
  "language_info": {
   "codemirror_mode": {
    "name": "ipython",
    "version": 3
   },
   "file_extension": ".py",
   "mimetype": "text/x-python",
   "name": "python",
   "nbconvert_exporter": "python",
   "pygments_lexer": "ipython3",
   "version": "3.12.5"
  }
 },
 "nbformat": 4,
 "nbformat_minor": 5
}
