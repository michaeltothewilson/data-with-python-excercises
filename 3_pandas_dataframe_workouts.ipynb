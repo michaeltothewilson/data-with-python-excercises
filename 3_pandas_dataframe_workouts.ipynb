{
 "cells": [
  {
   "cell_type": "markdown",
   "id": "6c9aa4de-6ce5-4139-bea8-9aa35745b142",
   "metadata": {
    "editable": true,
    "slideshow": {
     "slide_type": ""
    },
    "tags": []
   },
   "source": [
    "# Your Info\n",
    "__Name__:\n",
    "\n",
    "__PDX Email__:\n",
    "\n",
    "__Collaborators__:"
   ]
  },
  {
   "cell_type": "markdown",
   "id": "95d2cc86-9abb-4c32-9344-c877cb34d909",
   "metadata": {
    "editable": false,
    "slideshow": {
     "slide_type": ""
    },
    "tags": []
   },
   "source": [
    "# Pandas DataFrame Workout\n",
    "\n",
    "This workout will cover creating, accessing, manipulating, and analyzing data within a Pandas DataFrame."
   ]
  },
  {
   "cell_type": "markdown",
   "id": "1f49f4b2-678c-42ab-81dd-033658712d28",
   "metadata": {
    "editable": false,
    "slideshow": {
     "slide_type": ""
    },
    "tags": []
   },
   "source": [
    "## Overview of the Dataset\n",
    "\n",
    "For this workout, we will be examining a dataset from a CSV file.\n",
    "\n",
    "This dataset contains information about individual taxi trips in New York City, sourced from [NYC Open Data](https://opendata.cityofnewyork.us/data/). \n",
    "\n",
    "Each row represents one ride and includes the following details:\n",
    "\n",
    "__Key Columns:__\n",
    "\n",
    "* `VendorID`: Identifies the taxi company operating the trip.\t\n",
    "* `tpep_pickup_datetime` & `tpep_dropoff_datetime`: the start and end times of the trip.\t\n",
    "* `passenger_count`: Indicates the number of passengers. \t\n",
    "* `trip_distance`: The elapsed trip distance in miles reported by the taximeter. \t\n",
    "* `RatecodeID`: The final rate code in effect at the end of the trip.\n",
    "    * `1` = Standard rate\n",
    "    * `2` = JFK\n",
    "    * `3` = Newark\n",
    "    * `4` = Nassau or Westchester\n",
    "    * `5` = Negotiated fare\n",
    "    * `6` = Group ride\n",
    "    * `99` = Null/unknown \n",
    "* `store_and_fwd_flag`: This flag indicates whether the trip record was held in vehicle memory before sending to the vendor, aka “store and forward,” because the vehicle did not have a connection to the server. Y = store and forward trip N = not a store and forward trip \t\n",
    "* `PULocationID` & `DOLocationID`: TLC Taxi Zone in which the taximeter was engaged and disengaged respectively. \n",
    "* `payment_type`: A numeric code signifying how the passenger paid for the trip.\n",
    "    * `0` = Flex Fare trip\n",
    "    * `1` = Credit card\n",
    "    * `2` = Cash\n",
    "    * `3` = No charge\n",
    "    * `4` = Dispute\n",
    "    * `5` = Unknown\n",
    "    * `6` = Voided trip \n",
    "* `fare_amount`: The time-and-distance fare calculated by the meter.\n",
    "* `extra`, `mta_tax`, `tip_amount`, `tolls_amount`, `improvement_surcharge`, `congestion_surcharge`: These columns provide details on additional charges and payments.\t\n",
    "* `total_amount`: The total amount charged to passengers. Does not include cash tips.\t"
   ]
  },
  {
   "cell_type": "markdown",
   "id": "9c8def3e-99c6-48d2-9003-936bd925b042",
   "metadata": {
    "editable": false,
    "slideshow": {
     "slide_type": ""
    },
    "tags": []
   },
   "source": [
    "## Step 0 - Importing the Tools\n",
    "\n",
    "* Import the `pandas` library using the `pd` alias"
   ]
  },
  {
   "cell_type": "code",
   "execution_count": null,
   "id": "1298e9ab-9cac-4a95-8e2a-9447e82c873b",
   "metadata": {
    "editable": true,
    "slideshow": {
     "slide_type": ""
    },
    "tags": []
   },
   "outputs": [],
   "source": [
    "### Begin Solution\n",
    "\n",
    "\n",
    "### End Solution"
   ]
  },
  {
   "cell_type": "markdown",
   "id": "09b060c0-61a3-424c-b039-f2b5ed4300d8",
   "metadata": {
    "slideshow": {
     "slide_type": ""
    },
    "tags": []
   },
   "source": [
    "## Step 1 - Load the Dataset\n",
    "\n",
    "__The Setup__\n",
    "\n",
    "Your task is to create a Pandas DataFrame, named `df`, by loading data from the `CSV` file located at the following location:\n",
    "\n",
    "```bash\n",
    "data/nyc_taxi_2020-07.csv\n",
    "```\n",
    "\n",
    "To work efficiently with the data relevant to our initial questions, when reading the `CSV` file, instruct Pandas to import only these columns:\n",
    "\n",
    "* `passenger_count`\n",
    "* `total_amount`\n",
    "* `payment_type`"
   ]
  },
  {
   "cell_type": "code",
   "execution_count": null,
   "id": "bf8424da-c32b-489a-bc89-06f6e79046ce",
   "metadata": {
    "editable": true,
    "slideshow": {
     "slide_type": ""
    },
    "tags": []
   },
   "outputs": [],
   "source": [
    "### Begin Solution\n",
    "\n",
    "\n",
    "\n",
    "\n",
    "\n",
    "\n",
    "\n",
    "\n",
    "### End Solution"
   ]
  },
  {
   "cell_type": "markdown",
   "id": "cdcc69b5-617b-4eab-93b5-dd8c20c8c9bc",
   "metadata": {
    "editable": false,
    "slideshow": {
     "slide_type": ""
    },
    "tags": []
   },
   "source": [
    "## Step 2 - Skimming the Data\n",
    "\n",
    "Display the first few rows of the DataFrame to see the column names and some sample data."
   ]
  },
  {
   "cell_type": "code",
   "execution_count": null,
   "id": "890a554e-4a58-468b-a5ba-f0251a8c6671",
   "metadata": {
    "editable": true,
    "slideshow": {
     "slide_type": ""
    },
    "tags": []
   },
   "outputs": [],
   "source": [
    "### Begin Solution\n",
    "\n",
    "\n",
    "\n",
    "### End Solution"
   ]
  },
  {
   "cell_type": "markdown",
   "id": "09267a3c-a53d-41af-b8de-d3e2240e8b52",
   "metadata": {
    "editable": false,
    "slideshow": {
     "slide_type": ""
    },
    "tags": []
   },
   "source": [
    "## Step 3 - Getting a Summary Overview\n",
    "\n",
    "Obtain a concise summary of the DataFrame, including the number of rows and columns, data types, and non-null values."
   ]
  },
  {
   "cell_type": "code",
   "execution_count": null,
   "id": "f37801aa-ae6c-4365-a76e-cf49c573086a",
   "metadata": {
    "editable": true,
    "slideshow": {
     "slide_type": ""
    },
    "tags": []
   },
   "outputs": [],
   "source": [
    "### Begin Solution\n",
    "\n",
    "\n",
    "### End Solution"
   ]
  },
  {
   "cell_type": "markdown",
   "id": "2b79e69a-6167-447d-808d-6aef63303bc3",
   "metadata": {
    "editable": false,
    "slideshow": {
     "slide_type": ""
    },
    "tags": []
   },
   "source": [
    "## Step 4 - Descriptive Statistics for Numerical Columns\n",
    "\n",
    "Calculate and display the descriptive statistics for the numerical columns in the dataset. This will give you insights into the central tendency, dispersion, and range of values."
   ]
  },
  {
   "cell_type": "code",
   "execution_count": null,
   "id": "6e9110c2-1727-496d-9045-7adcd374c09f",
   "metadata": {
    "editable": true,
    "slideshow": {
     "slide_type": ""
    },
    "tags": []
   },
   "outputs": [],
   "source": [
    "### Begin Solution\n",
    "\n",
    "\n",
    "### End Solution"
   ]
  },
  {
   "cell_type": "markdown",
   "id": "18520e80-5de2-40c0-a6a5-0db0c8174eae",
   "metadata": {
    "editable": true,
    "slideshow": {
     "slide_type": ""
    },
    "tags": []
   },
   "source": [
    "## Step 5 - Examining Specific Columns\n",
    "\n",
    "Focus on the `passenger_count` and `total_amount columns`.\n",
    "\n",
    "* Find the minimum, maximum, and average values for each of these columns."
   ]
  },
  {
   "cell_type": "code",
   "execution_count": null,
   "id": "dcad85d6-a0a1-43ae-b2b9-00751a9ebae3",
   "metadata": {
    "editable": true,
    "slideshow": {
     "slide_type": ""
    },
    "tags": []
   },
   "outputs": [],
   "source": [
    "### Begin Solution\n",
    "\n",
    "\n",
    "\n",
    "\n",
    "\n",
    "\n",
    "\n",
    "\n",
    "\n",
    "\n",
    "\n",
    "\n",
    "\n",
    "### End Solution"
   ]
  },
  {
   "cell_type": "markdown",
   "id": "d6ac8f7e-1e3d-49e7-8291-c1d841348ba1",
   "metadata": {
    "editable": false,
    "slideshow": {
     "slide_type": ""
    },
    "tags": []
   },
   "source": [
    "## Step 6: Exploring Payment Types\n",
    "\n",
    "Investigate the `payment_type column` to see the different categories of payment and how many times each occurs."
   ]
  },
  {
   "cell_type": "code",
   "execution_count": null,
   "id": "061cf88d-9f52-4272-9564-dbb06aef3413",
   "metadata": {
    "editable": true,
    "scrolled": true,
    "slideshow": {
     "slide_type": ""
    },
    "tags": []
   },
   "outputs": [],
   "source": [
    "### Begin Solution\n",
    "\n",
    "\n",
    "\n",
    "### End Solution"
   ]
  },
  {
   "cell_type": "markdown",
   "id": "fd8c91bb-d1a4-4e6a-ad71-ce0c3b531098",
   "metadata": {
    "editable": false,
    "slideshow": {
     "slide_type": ""
    },
    "tags": []
   },
   "source": [
    "## Step 7 - Identifying Potentially Unusual Rides \n",
    "\n",
    "Use boolean indexing to filter the DataFrame and count the number of rides that meet the criteria for being unusual:\n",
    "* more than 6 passengers\n",
    "* 0 passengers\n",
    "* total amount of \\$1000 or more\n",
    "* total amount of \\$0 or less.\n",
    "\n",
    "__Explanation__\n",
    "\n",
    "Boolean Indexing in Pandas\n",
    "\n",
    "Boolean indexing lets you select rows in a DataFrame based on whether a condition is `True` or `False`.\n",
    "\n",
    "Syntax:\n",
    "\n",
    "```python\n",
    "df[df['column_name'] condition value]\n",
    "```\n",
    "\n",
    "* `df['column_name']`: Selects the column to check.\n",
    "* `condition`: A comparison operator (`>`, `<`, `>=`, `<=`, `==`, `!=`).\n",
    "* `value`: The value to compare against.\n",
    "\n",
    "This creates a boolean Series, and only rows where the condition is `True` are kept."
   ]
  },
  {
   "cell_type": "code",
   "execution_count": null,
   "id": "1007b7f9-b2a8-4259-9b6c-adb373a4c15b",
   "metadata": {
    "editable": true,
    "slideshow": {
     "slide_type": ""
    },
    "tags": []
   },
   "outputs": [],
   "source": [
    "### Begin Solution\n",
    "\n",
    "\n",
    "\n",
    "\n",
    "\n",
    "\n",
    "\n",
    "\n",
    "### End Solution"
   ]
  },
  {
   "cell_type": "markdown",
   "id": "efde6b01-e4e3-45ba-8f11-d43887234d73",
   "metadata": {
    "editable": false,
    "slideshow": {
     "slide_type": ""
    },
    "tags": []
   },
   "source": [
    "## Useful References\n",
    "\n",
    "__Core DataFrame Operations__:\n",
    "\n",
    "* `pd.read_csv()`: Reads data from a CSV file into a DataFrame. \n",
    "* `df[['column1', 'column2']]`: Selects specific columns from a DataFrame.\n",
    "* `df['column']`: Accesses a single column as a Series.\n",
    "* `df.head(n)`: Displays the first n rows of the DataFrame, useful for initial inspection.\n",
    "* `df.dtypes`: Shows the data type of each column in the DataFrame.\n",
    "* `df.info()`: Provides a concise summary of the DataFrame, including data types and non-null values.\n",
    "* `df.columns`: Returns the column names of the DataFrame.\n",
    "* `df.index`: Returns the index of the DataFrame (row labels).\n",
    "* `df.loc[row_label, column_label]`: Accesses data by label(s). Useful for selecting specific rows or columns by their names.\n",
    "* `len(df)`: Returns the number of rows in the DataFrame. Useful for finding the total number of records or the number of rows after filtering.\n",
    "\n",
    "\n",
    "__Filtering Data__:\n",
    "\n",
    "* __Boolean Indexing__\n",
    "    * `df[df['column'] > value]`\n",
    "    * `df[(df['col1'] == value) & (df['col2'] < other_value)])`\n",
    "    \n",
    "Selects rows based on conditions applied to column values.\n",
    "\n",
    "__Adding and Modifying Data__:\n",
    "\n",
    "* `df['new_column']` = value: Adds a new column to the DataFrame with a specified value (scalar or a Series). \n",
    "\n",
    "__Grouping and Aggregation__:\n",
    "\n",
    "* `df.groupby('column')`: Groups rows based on the unique values in a specified column. Essential for analyzing data per year.\n",
    "* `.count()`: Calculates the number of non-missing values within each group or Series.\n",
    "* `.sum()`: Calculates the sum of values within each group or Series.\n",
    "* `.mean()`: Calculates the average of values within each group or Series.\n",
    "* `.size()`: Returns the size of each group (including missing values).\n",
    "Value Counts and Proportions:\n",
    "\n",
    "* `df['column'].value_counts()`: Returns a Series containing the counts of unique values in a column. Useful for analyzing the distribution of passenger counts and payment types.\n",
    "\n",
    "For more in-depth information on the topics we've discussed and many others, you can visit the official Pandas documentation here:\n",
    "\n",
    "[https://pandas.pydata.org/docs/](https://pandas.pydata.org/docs/)"
   ]
  },
  {
   "cell_type": "markdown",
   "id": "9004551c-f4ab-4766-9171-b5cabab02c52",
   "metadata": {
    "editable": false,
    "slideshow": {
     "slide_type": ""
    },
    "tags": []
   },
   "source": [
    "## Submitting Your Assignment\n",
    "\n",
    "Please follow these steps to submit your work:\n",
    "\n",
    "1. Ensure your name and the names of any collaborators are clearly stated in the [Your Info](#Your-Info) section at the top of the notebook.\n",
    "2. Download your completed notebook as a `.ipynb` file.\n",
    "3. Upload this `.ipynb` file to the designated assignment submission area in Canvas."
   ]
  }
 ],
 "metadata": {
  "kernelspec": {
   "display_name": "Python 3 (ipykernel)",
   "language": "python",
   "name": "python3"
  },
  "language_info": {
   "codemirror_mode": {
    "name": "ipython",
    "version": 3
   },
   "file_extension": ".py",
   "mimetype": "text/x-python",
   "name": "python",
   "nbconvert_exporter": "python",
   "pygments_lexer": "ipython3",
   "version": "3.12.5"
  }
 },
 "nbformat": 4,
 "nbformat_minor": 5
}
