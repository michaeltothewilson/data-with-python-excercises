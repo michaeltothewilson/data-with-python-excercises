{
 "cells": [
  {
   "cell_type": "markdown",
   "id": "6c9aa4de-6ce5-4139-bea8-9aa35745b142",
   "metadata": {},
   "source": [
    "# Your Info\n",
    "__Name__:\n",
    "\n",
    "__PDX Email__:\n",
    "\n",
    "__Collaborators__:"
   ]
  },
  {
   "cell_type": "markdown",
   "id": "95d2cc86-9abb-4c32-9344-c877cb34d909",
   "metadata": {},
   "source": [
    "# Pandas Series Workouts\n",
    "\n",
    "A collection of exercises designed to build your proficiency in working with Pandas Series, the fundamental one-dimensional labeled array in the Pandas library. \n",
    "\n",
    "These workouts will cover creating, accessing, manipulating, and analyzing data within Series objects."
   ]
  },
  {
   "cell_type": "markdown",
   "id": "9a63533f-6142-4c2e-8382-501ceb5c0e14",
   "metadata": {},
   "source": [
    "# Workout 0 - Importing the Tools\n",
    "\n",
    "* Import the `pandas` library using the `pd` alias"
   ]
  },
  {
   "cell_type": "code",
   "execution_count": null,
   "id": "1298e9ab-9cac-4a95-8e2a-9447e82c873b",
   "metadata": {},
   "outputs": [],
   "source": [
    "### Begin Solution\n",
    "\n",
    "\n",
    "\n",
    "### End Solution"
   ]
  },
  {
   "cell_type": "markdown",
   "id": "f12bf736-46d2-49f7-987a-97ea38550f11",
   "metadata": {},
   "source": [
    "# Workout 1 - Pandas DataFrames"
   ]
  },
  {
   "cell_type": "markdown",
   "id": "979bad13-f21e-4172-bd2d-f2c4f3400649",
   "metadata": {},
   "source": [
    "## Exercise - Analyzing Unusual Taxi Trips\n",
    "\n",
    "__The Setup__\n",
    "\n",
    "Your task is to create a Pandas DataFrame by loading data from the CSV file located at `data/nyc_taxi_2019-01.csv`. \n",
    "\n",
    "When loading the data, ensure that you only include the following specific columns in your DataFrame:\n",
    "\n",
    "* `passenger_count`: The number of passengers in the taxi ride.\n",
    "* `total_amount`: The total fare amount paid for the ride.\n",
    "* `payment_type`: A code indicating the method of payment used for the ride.\n"
   ]
  },
  {
   "cell_type": "code",
   "execution_count": null,
   "id": "f7779ef7-dadf-4c10-9a8d-386aa8599f24",
   "metadata": {},
   "outputs": [],
   "source": [
    "### Begin Solution\n",
    "\n",
    "\n",
    "\n",
    "\n",
    "\n",
    "\n",
    "\n",
    "\n",
    "### End Solution"
   ]
  },
  {
   "cell_type": "markdown",
   "id": "ed77fa75-8ea3-4c36-b73a-01be0bea007d",
   "metadata": {},
   "source": [
    "__Your Task__\n",
    "\n",
    "Using the DataFrame you created from the taxi trip data, write Python code to answer the following questions:\n",
    "\n",
    "* Determine the number of taxi rides where the `passenger_count` was greater than 8.\n",
    "\n",
    "* Determine the number of taxi rides where the `passenger_count` was exactly 0.\n",
    "\n",
    "* Determine the number of taxi rides where the payment_type indicates payment by cash (`payment_type` of 2) and the `total_amount` was greater than \\$1000.\n",
    "\n",
    "* Determine the number of taxi rides where the `total_amount` was less than \\$0."
   ]
  },
  {
   "cell_type": "code",
   "execution_count": null,
   "id": "234c56e8-661b-4114-8bb9-d83b779a9793",
   "metadata": {},
   "outputs": [],
   "source": [
    "### Begin Solution\n",
    "\n",
    "\n",
    "\n",
    "\n",
    "\n",
    "\n",
    "\n",
    "\n",
    "\n",
    "\n",
    "\n",
    "\n",
    "\n",
    "### End Solution"
   ]
  },
  {
   "cell_type": "markdown",
   "id": "55d99a6c-fa53-49ea-bc6f-c95e9feea722",
   "metadata": {},
   "source": [
    "## Exercise - Comparing Taxi Trends: Pre-Pandemic vs. Pandemic\n",
    "\n",
    "__The Setup__\n",
    "\n",
    "Create a single Pandas DataFrame by combining data from two separate CSV files containing New York City taxi trip information:\n",
    "\n",
    "* `data/nyc_taxi_2019-07.csv`: (representing data from July 2019, before the major impact of the pandemic)\n",
    "* `data/nyc_taxi_2020-07.csv`: (representing data from July 2020, during the pandemic)\n",
    "\n",
    "For each of these files, you should load only the following columns into your DataFrame:\n",
    "\n",
    "* `passenger_count`: The number of passengers in the taxi ride.\n",
    "total_amount`: The total fare amount paid for the ride.\n",
    "* `payment_type`: A code indicating the method of payment used for the ride.\n",
    "\n",
    "Additionally, you will need to create a new column named `year` in your combined DataFrame to easily distinguish which year each taxi ride originated from (either 2019 or 2020)."
   ]
  },
  {
   "cell_type": "code",
   "execution_count": null,
   "id": "b6bae7d0-3dea-40c4-9662-0655936c2f99",
   "metadata": {},
   "outputs": [],
   "source": [
    "### Begin Solution\n",
    "\n",
    "\n",
    "\n",
    "\n",
    "\n",
    "\n",
    "\n",
    "\n",
    "\n",
    "\n",
    "\n",
    "\n",
    "\n",
    "\n",
    "\n",
    "\n",
    "\n",
    "\n",
    "### End Solution"
   ]
  },
  {
   "cell_type": "markdown",
   "id": "1e284aa0-9fa2-497c-b88d-ac4f36e01a04",
   "metadata": {},
   "source": [
    "__Your Task__\n",
    "\n",
    "Using the combined DataFrame containing taxi trip data from July 2019 and July 2020, write Python code to answer the following questions:\n",
    "\n",
    "* Calculate the total number of taxi rides recorded for the year 2019 and the total number for 2020. What is the absolute difference between these two counts?\n",
    "\n",
    "* Calculate the total `total_amount` collected from all taxi rides in 2019 and the total `total_amount` collected in 2020. What is the absolute difference between these two total amounts?\n",
    "\n",
    "* Analyze whether there was a significant change in the proportion of taxi trips with more than one passenger between 2019 and 2020.\n",
    "\n",
    "* Determine if the proportion of taxi rides paid for with cash (`payment_type` equal to 2) was lower in 2020 compared to 2019."
   ]
  },
  {
   "cell_type": "code",
   "execution_count": null,
   "id": "450ffe92-6ab0-4ef9-88ea-8a2cd9c68ce6",
   "metadata": {},
   "outputs": [],
   "source": [
    "### Begin Solution\n",
    "\n",
    "\n",
    "\n",
    "\n",
    "\n",
    "\n",
    "\n",
    "\n",
    "\n",
    "\n",
    "\n",
    "\n",
    "\n",
    "\n",
    "\n",
    "\n",
    "\n",
    "\n",
    "\n",
    "\n",
    "\n",
    "\n",
    "\n",
    "\n",
    "\n",
    "\n",
    "\n",
    "\n",
    "\n",
    "\n",
    "\n",
    "\n",
    "\n",
    "### End Solution"
   ]
  },
  {
   "cell_type": "markdown",
   "id": "efde6b01-e4e3-45ba-8f11-d43887234d73",
   "metadata": {},
   "source": [
    "# Useful References\n",
    "\n",
    "__Core DataFrame Operations__:\n",
    "\n",
    "* `pd.read_csv()`: Reads data from a CSV file into a DataFrame. \n",
    "* `df[['column1', 'column2']]`: Selects specific columns from a DataFrame.\n",
    "* `df['column']`: Accesses a single column as a Series.\n",
    "* `df.head(n)`: Displays the first n rows of the DataFrame, useful for initial inspection.\n",
    "* `df.dtypes`: Shows the data type of each column in the DataFrame.\n",
    "* `df.info()`: Provides a concise summary of the DataFrame, including data types and non-null values.\n",
    "* `df.columns`: Returns the column names of the DataFrame.\n",
    "* `df.index`: Returns the index of the DataFrame (row labels).\n",
    "* `df.loc[row_label, column_label]`: Accesses data by label(s). Useful for selecting specific rows or columns by their names.\n",
    "\n",
    "__Filtering Data__:\n",
    "\n",
    "* __Boolean Indexing__\n",
    "    * `df[df['column'] > value]`\n",
    "    * `df[(df['col1'] == value) & (df['col2'] < other_value)])`\n",
    "    \n",
    "Selects rows based on conditions applied to column values.\n",
    "\n",
    "__Adding and Modifying Data__:\n",
    "\n",
    "* `df['new_column'] = value: Adds a new column to the DataFrame with a specified value (scalar or a Series). \n",
    "\n",
    "__Grouping and Aggregation__:\n",
    "\n",
    "* `df.groupby('column')`: Groups rows based on the unique values in a specified column. Essential for analyzing data per year.\n",
    "* `.count()`: Calculates the number of non-missing values within each group or Series.\n",
    "* `.sum()`: Calculates the sum of values within each group or Series.\n",
    "* `.mean()`: Calculates the average of values within each group or Series.\n",
    "* `.size()`: Returns the size of each group (including missing values).\n",
    "Value Counts and Proportions:\n",
    "\n",
    "* `df['column'].value_counts()`: Returns a Series containing the counts of unique values in a column. Useful for analyzing the distribution of passenger counts and payment types.\n",
    "\n",
    "For more in-depth information on the topics we've discussed and many others, you can visit the official Pandas documentation here:\n",
    "\n",
    "[https://pandas.pydata.org/docs/](https://pandas.pydata.org/docs/)"
   ]
  },
  {
   "cell_type": "markdown",
   "id": "9004551c-f4ab-4766-9171-b5cabab02c52",
   "metadata": {
    "editable": false,
    "slideshow": {
     "slide_type": ""
    },
    "tags": []
   },
   "source": [
    "### Submitting Your Assignment\n",
    "\n",
    "Please follow these steps to submit your work:\n",
    "\n",
    "1. Ensure your name and the names of any collaborators are clearly stated in the [Your Info](#Your-Info) section at the top of the notebook.\n",
    "2. Download your completed notebook as a `.ipynb` file.\n",
    "3. Upload this `.ipynb` file to the designated assignment submission area in Canvas."
   ]
  }
 ],
 "metadata": {
  "kernelspec": {
   "display_name": "Python 3 (ipykernel)",
   "language": "python",
   "name": "python3"
  },
  "language_info": {
   "codemirror_mode": {
    "name": "ipython",
    "version": 3
   },
   "file_extension": ".py",
   "mimetype": "text/x-python",
   "name": "python",
   "nbconvert_exporter": "python",
   "pygments_lexer": "ipython3",
   "version": "3.12.5"
  }
 },
 "nbformat": 4,
 "nbformat_minor": 5
}
