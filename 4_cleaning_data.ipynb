{
 "cells": [
  {
   "cell_type": "code",
   "execution_count": null,
   "id": "c74eec7c-7131-4a6c-84c5-76693ed4e581",
   "metadata": {
    "editable": true,
    "slideshow": {
     "slide_type": ""
    },
    "tags": []
   },
   "outputs": [],
   "source": [
    "Your Info\n",
    "Name:\n",
    "\n",
    "PDX Email:\n",
    "\n",
    "Collaborators:"
   ]
  },
  {
   "cell_type": "markdown",
   "id": "7f572938-88e5-4002-8afd-dc4762901713",
   "metadata": {},
   "source": [
    "# Data Cleaning Workout\n",
    "\n",
    "The following exercises will focus on cleaning Data"
   ]
  },
  {
   "cell_type": "markdown",
   "id": "cda06dee-1dc1-4296-9413-55445b5a6cda",
   "metadata": {},
   "source": [
    "## 0 - Importing the Tools\n",
    "\n",
    "Import the `pandas` library with the `pd` alias."
   ]
  },
  {
   "cell_type": "code",
   "execution_count": 2,
   "id": "c12d3485-5a08-40e2-8140-72002a3a0a77",
   "metadata": {},
   "outputs": [],
   "source": [
    "## Begin Solution\n",
    "import pandas as pd\n",
    "## End Solution"
   ]
  },
  {
   "cell_type": "markdown",
   "id": "66c70f57-0e41-423f-a487-5df34f0712aa",
   "metadata": {},
   "source": [
    "## Workout 1- Parking Data\n",
    "\n",
    "This activity uses a sample of the New York City Parking Violations Dataset. Imagine this data was collected by police officers, parking inspectors, or other individuals. This means the data might have some missing or incorrect information.\n",
    "\n",
    "In this exercise, we'll use data cleaning techniques to find and handle missing values in the dataset."
   ]
  },
  {
   "cell_type": "markdown",
   "id": "7467785c-e722-4248-8da5-553c01fc8f7b",
   "metadata": {},
   "source": [
    "### Exercise 1 - Loading the Data\n",
    "\n",
    "__Your Task__\n",
    "\n",
    "1. Create a DataFrame:\n",
    "\n",
    "    * Create a DataFrame named parking_df from the file located at:\n",
    "    \n",
    "        * `data/nyc-parking-violation-sample.csv`\n",
    "\n",
    "1. Select Specific Columns:\n",
    "\n",
    "    * Include only the following columns in your DataFrame:\n",
    "\n",
    "        * `Plate ID`\n",
    "        \n",
    "        * `Registration State`\n",
    "        \n",
    "        * `Vehicle Make`\n",
    "        \n",
    "        * `Vehicle Color`\n",
    "        \n",
    "        * `Violation Time`\n",
    "        \n",
    "        * `Street Name`\n",
    "\n",
    "2. Explore the Data:\n",
    "\n",
    "* Print information about the `parking_df` DataFrame.\n",
    "* This should include:\n",
    "    * Column names\n",
    "    * Number of entries in each column\n",
    "    * Data types of each column"
   ]
  },
  {
   "cell_type": "code",
   "execution_count": 15,
   "id": "d2b1fb5c-b7b1-429c-9879-5d6b805e9224",
   "metadata": {},
   "outputs": [
    {
     "name": "stdout",
     "output_type": "stream",
     "text": [
      "<class 'pandas.core.frame.DataFrame'>\n",
      "RangeIndex: 250000 entries, 0 to 249999\n",
      "Data columns (total 6 columns):\n",
      " #   Column              Non-Null Count   Dtype \n",
      "---  ------              --------------   ----- \n",
      " 0   Plate ID            249992 non-null  object\n",
      " 1   Registration State  250000 non-null  object\n",
      " 2   Vehicle Make        247146 non-null  object\n",
      " 3   Violation Time      249978 non-null  object\n",
      " 4   Street Name         249922 non-null  object\n",
      " 5   Vehicle Color       240593 non-null  object\n",
      "dtypes: object(6)\n",
      "memory usage: 11.4+ MB\n"
     ]
    }
   ],
   "source": [
    "## Begin Solution\n",
    "FILE = \"data/nyc-parking-violation-sample.csv\"\n",
    "df = pd.read_csv(FILE,\n",
    "                usecols = ['Plate ID',\n",
    "                           'Registration State',\n",
    "                           'Vehicle Make',\n",
    "                           'Vehicle Color',\n",
    "                           'Violation Time',\n",
    "                           'Street Name'])\n",
    "df.info()\n",
    "## End Solution"
   ]
  },
  {
   "cell_type": "markdown",
   "id": "98e985ab-9306-4876-9f74-ec5f163475ce",
   "metadata": {},
   "source": [
    "### Exercise 2 - Removing `NaN`\n",
    "\n",
    "__Your Task__\n",
    "\n",
    "* Create a new datafame, `cleaned_parking_df`, Remove rows with any missing data (`NaN` values)\n",
    "* How many rows remain after doing this pruning?\n",
    "* Assume that each parking ticket is a \\$100 fine. However, if a ticket has missing data, it can be successfully contested.\n",
    "    * Based on the removed rows, calculate the total avoided fines for New York City citizens due to missing data.\n",
    "\n",
    "__Note__:\n",
    "* This missing data loop hole is not based on factual information and is solely for creating interest around these activities.\n",
    "* I am not a lawyer, for legal advice consult a professional"
   ]
  },
  {
   "cell_type": "code",
   "execution_count": 46,
   "id": "c276a52f-65cd-432a-ad16-e436308c40f2",
   "metadata": {},
   "outputs": [
    {
     "name": "stdout",
     "output_type": "stream",
     "text": [
      "<class 'pandas.core.frame.DataFrame'>\n",
      "Index: 238090 entries, 0 to 249999\n",
      "Data columns (total 6 columns):\n",
      " #   Column              Non-Null Count   Dtype \n",
      "---  ------              --------------   ----- \n",
      " 0   Plate ID            238090 non-null  object\n",
      " 1   Registration State  238090 non-null  object\n",
      " 2   Vehicle Make        238090 non-null  object\n",
      " 3   Violation Time      238090 non-null  object\n",
      " 4   Street Name         238090 non-null  object\n",
      " 5   Vehicle Color       238090 non-null  object\n",
      "dtypes: object(6)\n",
      "memory usage: 12.7+ MB\n",
      "Remaining Rows: 11910\n",
      "Fines Avoided: $1191000\n"
     ]
    }
   ],
   "source": [
    "## Begin Solution\n",
    "original_df_size = len(df)\n",
    "cleaned_parking_df = df.dropna()\n",
    "cleaned_parking_df.info()\n",
    "cleaned_df_size = len(cleaned_parking_df)\n",
    "remaining_rows = original_df_size - cleaned_df_size\n",
    "print(f\"Remaining Rows: {remaining_rows}\")\n",
    "print(f\"Fines Avoided: ${remaining_rows * 100}\")\n",
    "## End Solution"
   ]
  },
  {
   "cell_type": "code",
   "execution_count": 39,
   "id": "e144c5b0-78a0-464b-8875-e5610020ca4f",
   "metadata": {},
   "outputs": [
    {
     "name": "stdout",
     "output_type": "stream",
     "text": [
      "Assertion passed: DataFrame Size is 238,090\n"
     ]
    }
   ],
   "source": [
    "assert len(cleaned_parking_df) == 238_090, \"❌ DataFrame size is incorrect\"\n",
    "print(\"Assertion passed: ✅ DataFrame Size is 238,090\")"
   ]
  },
  {
   "cell_type": "markdown",
   "id": "dfe9c963-a3fb-408c-8646-64a4470a1e0d",
   "metadata": {},
   "source": [
    "### Exercise 2 - Missing Data\n",
    "\n",
    "Let's switch up the removal criteria. A ticket can only be dismissed if the license plate, sate, and or street name are missing.\n",
    "\n",
    "__Your Task__\n",
    "\n",
    "* Create a new DataFrame from `parking_df`, called `improved_parking_df`, and remove rows that contain missing values from:\n",
    "\n",
    "    * `Plate ID`\n",
    "    * `Registration State`\n",
    "    * `Street Name`\n",
    "\n",
    "\n",
    "* After removing these rows, how many rows are left in `improved_parking_df`?\n",
    "\n",
    "* Assume that each parking ticket is still a \\$100 fine. And if a ticket has missing data, it can be still successfully contested.\n",
    "\n",
    "    * Based on the removed rows, calculate the total avoided fines for New York City citizens due to missing data.\n",
    "\n",
    "    * The result should be a more realistic value than the previous exercise.\n",
    "\n"
   ]
  },
  {
   "cell_type": "code",
   "execution_count": 43,
   "id": "c0be7c8b-808d-4901-9f20-061e100d334e",
   "metadata": {
    "editable": true,
    "slideshow": {
     "slide_type": ""
    },
    "tags": []
   },
   "outputs": [
    {
     "name": "stdout",
     "output_type": "stream",
     "text": [
      "<class 'pandas.core.frame.DataFrame'>\n",
      "Index: 249914 entries, 0 to 249999\n",
      "Data columns (total 6 columns):\n",
      " #   Column              Non-Null Count   Dtype \n",
      "---  ------              --------------   ----- \n",
      " 0   Plate ID            249914 non-null  object\n",
      " 1   Registration State  249914 non-null  object\n",
      " 2   Vehicle Make        247065 non-null  object\n",
      " 3   Violation Time      249895 non-null  object\n",
      " 4   Street Name         249914 non-null  object\n",
      " 5   Vehicle Color       240527 non-null  object\n",
      "dtypes: object(6)\n",
      "memory usage: 13.3+ MB\n",
      "249914\n",
      "Remaining Rows: 86\n",
      "Fines Avoided: $8600\n"
     ]
    }
   ],
   "source": [
    "## Begin Solution\n",
    "improved_parking_df = df.dropna(subset = ['Plate ID',\n",
    "                              'Registration State',\n",
    "                              'Street Name'])\n",
    "improved_parking_df.info()\n",
    "print(improved_df_size)\n",
    "improved_df_size = len(improved_parking_df)\n",
    "remaining_rows = original_df_size - improved_df_size\n",
    "\n",
    "print(f\"Remaining Rows: {remaining_rows}\")\n",
    "print(f\"Fines Avoided: ${remaining_rows * 100}\")\n",
    "## End Solution"
   ]
  },
  {
   "cell_type": "code",
   "execution_count": 45,
   "id": "b7b48223-ec00-4d3f-929b-f5f2322d0736",
   "metadata": {
    "editable": false,
    "slideshow": {
     "slide_type": ""
    },
    "tags": []
   },
   "outputs": [
    {
     "name": "stdout",
     "output_type": "stream",
     "text": [
      "Assertion passed: ✅ DataFrame Size is 249914\n"
     ]
    }
   ],
   "source": [
    "## Begin Quick Test\n",
    "assert len(improved_parking_df) == 249914, \"❌ DataFrame size is incorrect\"\n",
    "print(\"Assertion passed: ✅ DataFrame Size is 249914\")\n",
    "## End Quick Test"
   ]
  }
 ],
 "metadata": {
  "kernelspec": {
   "display_name": "Python 3 (ipykernel)",
   "language": "python",
   "name": "python3"
  },
  "language_info": {
   "codemirror_mode": {
    "name": "ipython",
    "version": 3
   },
   "file_extension": ".py",
   "mimetype": "text/x-python",
   "name": "python",
   "nbconvert_exporter": "python",
   "pygments_lexer": "ipython3",
   "version": "3.12.5"
  }
 },
 "nbformat": 4,
 "nbformat_minor": 5
}
