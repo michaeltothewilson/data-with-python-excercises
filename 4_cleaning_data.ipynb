{
 "cells": [
  {
   "cell_type": "markdown",
   "id": "04d1bedd-0437-4cca-9d84-2606fcfe6a32",
   "metadata": {
    "editable": true,
    "slideshow": {
     "slide_type": ""
    },
    "tags": []
   },
   "source": [
    "## Your Info\n",
    "__Name:__\n",
    "\n",
    "__PDX Email:__\n",
    "\n",
    "__Collaborators:__"
   ]
  },
  {
   "cell_type": "markdown",
   "id": "7f572938-88e5-4002-8afd-dc4762901713",
   "metadata": {},
   "source": [
    "# Data Cleaning Workout\n",
    "\n",
    "The following exercises will focus on cleaning Data"
   ]
  },
  {
   "cell_type": "markdown",
   "id": "cda06dee-1dc1-4296-9413-55445b5a6cda",
   "metadata": {},
   "source": [
    "## 0 - Importing the Tools\n",
    "\n",
    "Import the `pandas` library with the `pd` alias."
   ]
  },
  {
   "cell_type": "code",
   "execution_count": 86,
   "id": "c12d3485-5a08-40e2-8140-72002a3a0a77",
   "metadata": {},
   "outputs": [],
   "source": [
    "## Begin Solution\n",
    "import pandas as pd\n",
    "import numpy as np\n",
    "## End Solution"
   ]
  },
  {
   "cell_type": "markdown",
   "id": "66c70f57-0e41-423f-a487-5df34f0712aa",
   "metadata": {},
   "source": [
    "## Workout 1- Parking Data\n",
    "\n",
    "This activity uses a sample of the New York City Parking Violations Dataset. Imagine this data was collected by police officers, parking inspectors, or other individuals. This means the data might have some missing or incorrect information.\n",
    "\n",
    "In this exercise, we'll use data cleaning techniques to find and handle missing values in the dataset."
   ]
  },
  {
   "cell_type": "markdown",
   "id": "7467785c-e722-4248-8da5-553c01fc8f7b",
   "metadata": {},
   "source": [
    "### Exercise 1 - Loading the Data\n",
    "\n",
    "__Your Task__\n",
    "\n",
    "1. Create a DataFrame:\n",
    "\n",
    "    * Create a DataFrame named parking_df from the file located at:\n",
    "    \n",
    "        * `data/nyc-parking-violation-sample.csv`\n",
    "\n",
    "1. Select Specific Columns:\n",
    "\n",
    "    * Include only the following columns in your DataFrame:\n",
    "\n",
    "        * `Plate ID`\n",
    "        \n",
    "        * `Registration State`\n",
    "        \n",
    "        * `Vehicle Make`\n",
    "        \n",
    "        * `Vehicle Color`\n",
    "        \n",
    "        * `Violation Time`\n",
    "        \n",
    "        * `Street Name`\n",
    "\n",
    "2. Explore the Data:\n",
    "\n",
    "* Print information about the `parking_df` DataFrame.\n",
    "* This should include:\n",
    "    * Column names\n",
    "    * Number of entries in each column\n",
    "    * Data types of each column"
   ]
  },
  {
   "cell_type": "code",
   "execution_count": 87,
   "id": "d2b1fb5c-b7b1-429c-9879-5d6b805e9224",
   "metadata": {},
   "outputs": [
    {
     "name": "stdout",
     "output_type": "stream",
     "text": [
      "<class 'pandas.core.frame.DataFrame'>\n",
      "RangeIndex: 250000 entries, 0 to 249999\n",
      "Data columns (total 6 columns):\n",
      " #   Column              Non-Null Count   Dtype \n",
      "---  ------              --------------   ----- \n",
      " 0   Plate ID            249992 non-null  object\n",
      " 1   Registration State  250000 non-null  object\n",
      " 2   Vehicle Make        247146 non-null  object\n",
      " 3   Violation Time      249978 non-null  object\n",
      " 4   Street Name         249922 non-null  object\n",
      " 5   Vehicle Color       240593 non-null  object\n",
      "dtypes: object(6)\n",
      "memory usage: 11.4+ MB\n"
     ]
    }
   ],
   "source": [
    "## Begin Solution\n",
    "FILE = \"data/nyc-parking-violation-sample.csv\"\n",
    "df = pd.read_csv(FILE,\n",
    "                usecols = ['Plate ID',\n",
    "                           'Registration State',\n",
    "                           'Vehicle Make',\n",
    "                           'Vehicle Color',\n",
    "                           'Violation Time',\n",
    "                           'Street Name'])\n",
    "df.info()\n",
    "## End Solution"
   ]
  },
  {
   "cell_type": "markdown",
   "id": "98e985ab-9306-4876-9f74-ec5f163475ce",
   "metadata": {},
   "source": [
    "### Exercise 2 - Removing `NaN`\n",
    "\n",
    "__Your Task__\n",
    "\n",
    "* Create a new datafame, `cleaned_parking_df`, Remove rows with any missing data (`NaN` values)\n",
    "* How many rows remain after doing this pruning?\n",
    "* Assume that each parking ticket is a \\$100 fine. However, if a ticket has missing data, it can be successfully contested.\n",
    "    * Based on the removed rows, calculate the total avoided fines for New York City citizens due to missing data.\n",
    "\n",
    "__Note__:\n",
    "* This missing data loop hole is not based on factual information and is solely for creating interest around these activities.\n",
    "* I am not a lawyer, for legal advice consult a professional"
   ]
  },
  {
   "cell_type": "code",
   "execution_count": 88,
   "id": "c276a52f-65cd-432a-ad16-e436308c40f2",
   "metadata": {},
   "outputs": [
    {
     "name": "stdout",
     "output_type": "stream",
     "text": [
      "<class 'pandas.core.frame.DataFrame'>\n",
      "Index: 238090 entries, 0 to 249999\n",
      "Data columns (total 6 columns):\n",
      " #   Column              Non-Null Count   Dtype \n",
      "---  ------              --------------   ----- \n",
      " 0   Plate ID            238090 non-null  object\n",
      " 1   Registration State  238090 non-null  object\n",
      " 2   Vehicle Make        238090 non-null  object\n",
      " 3   Violation Time      238090 non-null  object\n",
      " 4   Street Name         238090 non-null  object\n",
      " 5   Vehicle Color       238090 non-null  object\n",
      "dtypes: object(6)\n",
      "memory usage: 12.7+ MB\n",
      "Remaining Rows: 11910\n",
      "Fines Avoided: $1191000\n"
     ]
    }
   ],
   "source": [
    "## Begin Solution\n",
    "original_df_size = len(df)\n",
    "cleaned_parking_df = df.dropna()\n",
    "cleaned_parking_df.info()\n",
    "cleaned_df_size = len(cleaned_parking_df)\n",
    "remaining_rows = original_df_size - cleaned_df_size\n",
    "print(f\"Remaining Rows: {remaining_rows}\")\n",
    "print(f\"Fines Avoided: ${remaining_rows * 100}\")\n",
    "## End Solution"
   ]
  },
  {
   "cell_type": "code",
   "execution_count": 89,
   "id": "e144c5b0-78a0-464b-8875-e5610020ca4f",
   "metadata": {},
   "outputs": [
    {
     "name": "stdout",
     "output_type": "stream",
     "text": [
      "Assertion passed: ✅ DataFrame Size is 238,090\n"
     ]
    }
   ],
   "source": [
    "## Quick Test\n",
    "assert len(cleaned_parking_df) == 238_090, \"❌ DataFrame size is incorrect\"\n",
    "print(\"Assertion passed: ✅ DataFrame Size is 238,090\")\n",
    "## End Quick Test"
   ]
  },
  {
   "cell_type": "markdown",
   "id": "dfe9c963-a3fb-408c-8646-64a4470a1e0d",
   "metadata": {},
   "source": [
    "### Exercise 2 - Missing Data\n",
    "\n",
    "Let's switch up the removal criteria. A ticket can only be dismissed if the license plate, sate, and or street name are missing.\n",
    "\n",
    "__Your Task__\n",
    "\n",
    "* Create a new DataFrame from `parking_df`, called `improved_parking_df`, and remove rows that contain missing values from:\n",
    "\n",
    "    * `Plate ID`\n",
    "    * `Registration State`\n",
    "    * `Street Name`\n",
    "\n",
    "\n",
    "* After removing these rows, how many rows are left in `improved_parking_df`?\n",
    "\n",
    "* Assume that each parking ticket is still a \\$100 fine. And if a ticket has missing data, it can be still successfully contested.\n",
    "\n",
    "    * Based on the removed rows, calculate the total avoided fines for New York City citizens due to missing data.\n",
    "\n",
    "    * The result should be a more realistic value than the previous exercise.\n",
    "\n"
   ]
  },
  {
   "cell_type": "code",
   "execution_count": 90,
   "id": "c0be7c8b-808d-4901-9f20-061e100d334e",
   "metadata": {
    "editable": true,
    "slideshow": {
     "slide_type": ""
    },
    "tags": []
   },
   "outputs": [
    {
     "name": "stdout",
     "output_type": "stream",
     "text": [
      "<class 'pandas.core.frame.DataFrame'>\n",
      "Index: 249914 entries, 0 to 249999\n",
      "Data columns (total 6 columns):\n",
      " #   Column              Non-Null Count   Dtype \n",
      "---  ------              --------------   ----- \n",
      " 0   Plate ID            249914 non-null  object\n",
      " 1   Registration State  249914 non-null  object\n",
      " 2   Vehicle Make        247065 non-null  object\n",
      " 3   Violation Time      249895 non-null  object\n",
      " 4   Street Name         249914 non-null  object\n",
      " 5   Vehicle Color       240527 non-null  object\n",
      "dtypes: object(6)\n",
      "memory usage: 13.3+ MB\n",
      "Remaining Rows: 86\n",
      "Fines Avoided: $8600\n"
     ]
    }
   ],
   "source": [
    "## Begin Solution\n",
    "improved_parking_df = df.dropna(subset = ['Plate ID',\n",
    "                              'Registration State',\n",
    "                              'Street Name'])\n",
    "improved_parking_df.info()\n",
    "improved_df_size = len(improved_parking_df)\n",
    "remaining_rows = original_df_size - improved_df_size\n",
    "\n",
    "print(f\"Remaining Rows: {remaining_rows}\")\n",
    "print(f\"Fines Avoided: ${remaining_rows * 100}\")\n",
    "## End Solution"
   ]
  },
  {
   "cell_type": "code",
   "execution_count": 91,
   "id": "b7b48223-ec00-4d3f-929b-f5f2322d0736",
   "metadata": {
    "editable": false,
    "slideshow": {
     "slide_type": ""
    },
    "tags": []
   },
   "outputs": [
    {
     "name": "stdout",
     "output_type": "stream",
     "text": [
      "Assertion passed: ✅ DataFrame Size is 249914\n"
     ]
    }
   ],
   "source": [
    "## Begin Quick Test\n",
    "assert len(improved_parking_df) == 249914, \"❌ DataFrame size is incorrect\"\n",
    "print(\"Assertion passed: ✅ DataFrame Size is 249914\")\n",
    "## End Quick Test"
   ]
  },
  {
   "cell_type": "markdown",
   "id": "35abf1e3-d8f3-44c1-be52-57969dc330bb",
   "metadata": {},
   "source": [
    "### Exercise 3 - Missing License Plates\n",
    "\n",
    "In data cleaning, we often deal with not just missing data, but also data that, while present, is invalid.\n",
    "\n",
    "Consider a new scenario where a parking ticket can be contested and dismissed if the `Plate ID` is recorded as `BLANKPLATE`.\n",
    "\n",
    "__Your Task__\n",
    "\n",
    "* Clean the original DataFrame, `df`:\n",
    "    * Create a new DataFrame, `blank_plates_df`, by removing all rows where the `Plate ID` column contains the value `BLANKPLATE`.\n",
    "* Determine how many rows were removed from the original DataFrame.\n",
    "* Based on the scenario where a `BLANKPLATE` entry allows a ticket to be successfully contested, calculate the total amount in fines that NYC citizens could have potentially avoided-each fine is still $100."
   ]
  },
  {
   "cell_type": "code",
   "execution_count": 92,
   "id": "a95bc16c-4bb8-4545-9442-09459cd4aea0",
   "metadata": {},
   "outputs": [
    {
     "name": "stdout",
     "output_type": "stream",
     "text": [
      "<class 'pandas.core.frame.DataFrame'>\n",
      "Index: 249675 entries, 0 to 249999\n",
      "Data columns (total 6 columns):\n",
      " #   Column              Non-Null Count   Dtype \n",
      "---  ------              --------------   ----- \n",
      " 0   Plate ID            249667 non-null  object\n",
      " 1   Registration State  249675 non-null  object\n",
      " 2   Vehicle Make        246855 non-null  object\n",
      " 3   Violation Time      249653 non-null  object\n",
      " 4   Street Name         249602 non-null  object\n",
      " 5   Vehicle Color       240310 non-null  object\n",
      "dtypes: object(6)\n",
      "memory usage: 13.3+ MB\n",
      "Rows remaining: 325\n",
      "Fines avoided: $32500\n"
     ]
    }
   ],
   "source": [
    "## Begin Solution\n",
    "blank_plates_df = df[df[\"Plate ID\"] != \"BLANKPLATE\"]\n",
    "blank_plates_df.info\n",
    "\n",
    "\n",
    "blank_df_size = len(blank_plates_df)\n",
    "rows_remaining = original_df_size - blank_df_size\n",
    "blank_plates_df.info()\n",
    "\n",
    "print(f\"Rows remaining: {rows_remaining}\")\n",
    "print(f\"Fines avoided: ${rows_remaining * 100}\")\n",
    "## End Solution"
   ]
  },
  {
   "cell_type": "code",
   "execution_count": 93,
   "id": "3b0b4004-a428-4e25-b5d1-bfdb46c8c800",
   "metadata": {},
   "outputs": [
    {
     "name": "stdout",
     "output_type": "stream",
     "text": [
      "✅ DataFrame is expected size\n"
     ]
    }
   ],
   "source": [
    "## Begin Quick Test\n",
    "assert len(blank_plates_df) == 249_675, \"❌ DataFrame is not the expected size\"\n",
    "print(\"✅ DataFrame is expected size\")\n",
    "## End Quick Test"
   ]
  },
  {
   "cell_type": "markdown",
   "id": "79baa2d9-30ce-47d9-81ab-8d87ba013973",
   "metadata": {},
   "source": [
    "## Workout 2 - Celebrity Deaths\n",
    "\n",
    "This activity uses a dataset of celebrities who passed away in 2016. This data was originally recorded in Wikipedia and includes the following information:\n",
    "\n",
    "* `dateofdeath` - Date of Death\n",
    "* `name` - the celebrity's name\n",
    "* `age` - the age of the celebrity\n",
    "* `bio - a short biographhy\n",
    "* `causeofdeath` - a short description explaining the cause of death\n",
    "\n",
    "This dataset is a bit messy, so we'll have to do some cleaning in order to work with it.\n",
    "\n"
   ]
  },
  {
   "cell_type": "markdown",
   "id": "ffd2bf52-9bfc-4701-a224-7e20637c9928",
   "metadata": {},
   "source": [
    "### Exercise 1 - Average Age of Celebrities who died February-July 2016\n",
    "\n",
    "* Create a DataFrame, `celeb_deaths_df`, from the file located at `data/celebrity_deaths_2016.csv`\n",
    "* Create a new column `month` containing the month from the `dateofdeath` column\n",
    "* Make `month` the index of `celeb_deaths_df`\n",
    "* Sort the `celeb_deaths_df` by the index\n",
    "* Clean all nonintegers from the `age` column\n",
    "* Turn the `age` column into a numeric data type\n",
    "* Output statistical information about the DataFrame\n"
   ]
  },
  {
   "cell_type": "code",
   "execution_count": 137,
   "id": "1e957569-78fc-4f9d-b562-d3e22e49e1cd",
   "metadata": {},
   "outputs": [
    {
     "name": "stdout",
     "output_type": "stream",
     "text": [
      "<class 'pandas.core.frame.DataFrame'>\n",
      "Index: 6516 entries, 01 to 12\n",
      "Data columns (total 5 columns):\n",
      " #   Column        Non-Null Count  Dtype  \n",
      "---  ------        --------------  -----  \n",
      " 0   dateofdeath   6516 non-null   object \n",
      " 1   name          6516 non-null   object \n",
      " 2   age           6505 non-null   float64\n",
      " 3   bio           6516 non-null   object \n",
      " 4   causeofdeath  1531 non-null   object \n",
      "dtypes: float64(1), object(4)\n",
      "memory usage: 305.4+ KB\n"
     ]
    },
    {
     "data": {
      "text/html": [
       "<div>\n",
       "<style scoped>\n",
       "    .dataframe tbody tr th:only-of-type {\n",
       "        vertical-align: middle;\n",
       "    }\n",
       "\n",
       "    .dataframe tbody tr th {\n",
       "        vertical-align: top;\n",
       "    }\n",
       "\n",
       "    .dataframe thead th {\n",
       "        text-align: right;\n",
       "    }\n",
       "</style>\n",
       "<table border=\"1\" class=\"dataframe\">\n",
       "  <thead>\n",
       "    <tr style=\"text-align: right;\">\n",
       "      <th></th>\n",
       "      <th>dateofdeath</th>\n",
       "      <th>name</th>\n",
       "      <th>age</th>\n",
       "      <th>bio</th>\n",
       "      <th>causeofdeath</th>\n",
       "    </tr>\n",
       "    <tr>\n",
       "      <th>month</th>\n",
       "      <th></th>\n",
       "      <th></th>\n",
       "      <th></th>\n",
       "      <th></th>\n",
       "      <th></th>\n",
       "    </tr>\n",
       "  </thead>\n",
       "  <tbody>\n",
       "    <tr>\n",
       "      <th>01</th>\n",
       "      <td>2016-01-01</td>\n",
       "      <td>Tony Lane</td>\n",
       "      <td>71.0</td>\n",
       "      <td>American art director (Rolling Stone)</td>\n",
       "      <td>brain cancer</td>\n",
       "    </tr>\n",
       "    <tr>\n",
       "      <th>01</th>\n",
       "      <td>2016-01-21</td>\n",
       "      <td>Derrick Todd Lee</td>\n",
       "      <td>47.0</td>\n",
       "      <td>American convicted serial killer</td>\n",
       "      <td>heart disease</td>\n",
       "    </tr>\n",
       "    <tr>\n",
       "      <th>01</th>\n",
       "      <td>2016-01-21</td>\n",
       "      <td>Francis Seow</td>\n",
       "      <td>87.0</td>\n",
       "      <td>Singapore-born American writer and political r...</td>\n",
       "      <td>pneumonia</td>\n",
       "    </tr>\n",
       "    <tr>\n",
       "      <th>01</th>\n",
       "      <td>2016-01-21</td>\n",
       "      <td>Cabot Lyford</td>\n",
       "      <td>90.0</td>\n",
       "      <td>American sculptor</td>\n",
       "      <td>pulmonary distress</td>\n",
       "    </tr>\n",
       "    <tr>\n",
       "      <th>01</th>\n",
       "      <td>2016-01-21</td>\n",
       "      <td>Bogus_aw Kaczy_ski</td>\n",
       "      <td>73.0</td>\n",
       "      <td>Polish classical music journalist</td>\n",
       "      <td>stroke</td>\n",
       "    </tr>\n",
       "  </tbody>\n",
       "</table>\n",
       "</div>"
      ],
      "text/plain": [
       "      dateofdeath                name   age  \\\n",
       "month                                         \n",
       "01     2016-01-01           Tony Lane  71.0   \n",
       "01     2016-01-21    Derrick Todd Lee  47.0   \n",
       "01     2016-01-21        Francis Seow  87.0   \n",
       "01     2016-01-21        Cabot Lyford  90.0   \n",
       "01     2016-01-21  Bogus_aw Kaczy_ski  73.0   \n",
       "\n",
       "                                                     bio         causeofdeath  \n",
       "month                                                                          \n",
       "01                 American art director (Rolling Stone)         brain cancer  \n",
       "01                      American convicted serial killer        heart disease  \n",
       "01     Singapore-born American writer and political r...            pneumonia  \n",
       "01                                     American sculptor   pulmonary distress  \n",
       "01                     Polish classical music journalist               stroke  "
      ]
     },
     "execution_count": 137,
     "metadata": {},
     "output_type": "execute_result"
    }
   ],
   "source": [
    "## Begin Solution\n",
    "# Load Data\n",
    "path = \"data/celebrity_deaths_2016.csv\"\n",
    "celeb_death_df = pd.read_csv(path)\n",
    "\n",
    "# Drop Unnamed Columns\n",
    "celeb_death_df = celeb_death_df.drop(columns = [celeb_death_df.columns[5], celeb_death_df.columns[6]])\n",
    "\n",
    "# Create a month column\n",
    "celeb_death_df[\"month\"] = celeb_death_df[\"dateofdeath\"].str.slice(5,7)\n",
    "\n",
    "# Set and Sort Index\n",
    "celeb_death_df = celeb_death_df.set_index(\"month\").sort_index()\n",
    "\n",
    "# Convert Age Column to Integer\n",
    "celeb_death_df = celeb_death_df.dropna(subset = [\"age\"])\n",
    "celeb_death_df[\"age\"] = pd.to_numeric(celeb_death_df['age'], errors=\"coerce\")\n",
    "\n",
    "# Output Data\n",
    "celeb_death_df.describe()\n",
    "celeb_death_df.info()\n",
    "celeb_death_df.head()\n",
    "## End Solution"
   ]
  },
  {
   "cell_type": "markdown",
   "id": "6633388d-f61e-4710-a6d7-97664cecb931",
   "metadata": {},
   "source": [
    "### Exercise 2 - Average Age of Death\n",
    "\n",
    "Something is off with the data. We'd like you to determine the average age of death but according to `df.describe()` the average age is 100 and the maximum age is 9394! This can't be right.\n",
    "\n",
    "__Your Task__\n",
    "\n",
    "* Update the DataFrame to only keep people younger than 120 years old.\n",
    "* Determine the average age of death from Feb-Jul"
   ]
  },
  {
   "cell_type": "code",
   "execution_count": 138,
   "id": "d80e5a45-6da3-4d93-b3f0-69cf9cda03af",
   "metadata": {},
   "outputs": [
    {
     "data": {
      "text/plain": [
       "np.float64(77.27840765936004)"
      ]
     },
     "execution_count": 138,
     "metadata": {},
     "output_type": "execute_result"
    }
   ],
   "source": [
    "### Begin Solution\n",
    "\n",
    "# Update DataFrame\n",
    "celeb_death_df = celeb_death_df[celeb_death_df[\"age\"] < 120]\n",
    "celeb_death_df.describe()\n",
    "\n",
    "# Get Average Age of Death from Feb 2016 - July 2016\n",
    "celeb_death_df.loc[\"01\":\"07\", \"age\"].mean()\n",
    "\n",
    "### Begin Solution"
   ]
  },
  {
   "cell_type": "markdown",
   "id": "f82518d9-0832-4f01-90ca-4153f8191181",
   "metadata": {},
   "source": [
    "### Excercise 3 - Cause of Death\n",
    "\n",
    "__Your Task__\n",
    "\n",
    "* Update the DataFrame such that any `NaN` values in the `causeofdeath` column is replaced with `unknown`.\n",
    "* Determine the 5 most common causes of death."
   ]
  },
  {
   "cell_type": "code",
   "execution_count": 142,
   "id": "c7d81c42-d156-426b-8ba6-b3aff026866b",
   "metadata": {},
   "outputs": [
    {
     "name": "stdout",
     "output_type": "stream",
     "text": [
      "causeofdeath\n",
      "unknown                               4953\n",
      "cancer                                 257\n",
      "heart attack                           135\n",
      "traffic collision                       56\n",
      "lung cancer                             52\n",
      "                                      ... \n",
      "pancreatic cancer and stroke             1\n",
      "Celtic)                                  1\n",
      "cardiovascular and renal disease         1\n",
      "entomologist and plant pathologist       1\n",
      "liver and renal failure                  1\n",
      "Name: count, Length: 324, dtype: int64\n",
      "4953\n"
     ]
    }
   ],
   "source": [
    "## Begin Solution\n",
    "\n",
    "# Replace NaN with Unknown\n",
    "causes_of_death[\"causeofdeath\"] = celeb_death_df[\"causeofdeath\"].fillna('unknown')\n",
    "\n",
    "# Get Value Counts Series\n",
    "causes_of_death = causes_of_death[\"causeofdeath\"].str.strip().value_counts()\n",
    "\n",
    "# Output 5 Most Common Causes of Death\n",
    "print(causes_of_death.head(5))\n",
    "## End Solution"
   ]
  },
  {
   "cell_type": "code",
   "execution_count": 152,
   "id": "eac826c3-6273-4d2a-8395-cd1ed2c81fb8",
   "metadata": {},
   "outputs": [
    {
     "name": "stdout",
     "output_type": "stream",
     "text": [
      "3/3 Tests Passed\n"
     ]
    }
   ],
   "source": [
    "## Quick Test\n",
    "assert causes_of_death.isnull().sum() == 0, \"NaN values still exist in the 'causeofdeath' column\"\n",
    "assert causes_of_death[\"cancer\"] == 257, \"Cancer count may be incorrect\"\n",
    "assert causes_of_death[\"unknown\"] == 4953, \"Unknown count may be incorrect\"\n",
    "print(\"3/3 Tests Passed\")\n",
    "## End Test"
   ]
  },
  {
   "cell_type": "code",
   "execution_count": null,
   "id": "36ab1135-faa6-474d-b059-40300034bdef",
   "metadata": {},
   "outputs": [],
   "source": []
  }
 ],
 "metadata": {
  "kernelspec": {
   "display_name": "Python 3 (ipykernel)",
   "language": "python",
   "name": "python3"
  },
  "language_info": {
   "codemirror_mode": {
    "name": "ipython",
    "version": 3
   },
   "file_extension": ".py",
   "mimetype": "text/x-python",
   "name": "python",
   "nbconvert_exporter": "python",
   "pygments_lexer": "ipython3",
   "version": "3.12.5"
  }
 },
 "nbformat": 4,
 "nbformat_minor": 5
}
