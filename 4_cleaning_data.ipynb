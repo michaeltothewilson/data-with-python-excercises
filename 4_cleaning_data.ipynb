{
 "cells": [
  {
   "cell_type": "markdown",
   "id": "04d1bedd-0437-4cca-9d84-2606fcfe6a32",
   "metadata": {
    "editable": true,
    "slideshow": {
     "slide_type": ""
    },
    "tags": []
   },
   "source": [
    "## Your Info\n",
    "__Name:__\n",
    "\n",
    "__PDX Email:__\n",
    "\n",
    "__Collaborators:__"
   ]
  },
  {
   "cell_type": "markdown",
   "id": "7f572938-88e5-4002-8afd-dc4762901713",
   "metadata": {
    "editable": false,
    "slideshow": {
     "slide_type": ""
    },
    "tags": []
   },
   "source": [
    "# Data Cleaning Workout\n",
    "\n",
    "The following exercises will focus on cleaning Data"
   ]
  },
  {
   "cell_type": "markdown",
   "id": "cda06dee-1dc1-4296-9413-55445b5a6cda",
   "metadata": {
    "editable": false,
    "slideshow": {
     "slide_type": ""
    },
    "tags": []
   },
   "source": [
    "## Workout 0 - Importing the Tools\n",
    "\n",
    "* Import the `pandas` library with the `pd` alias.\n",
    "* Import `numpy` with the `np` alias\n",
    "* Import `matplotlib.pyplot` with the `plt` alias."
   ]
  },
  {
   "cell_type": "code",
   "execution_count": null,
   "id": "c12d3485-5a08-40e2-8140-72002a3a0a77",
   "metadata": {
    "editable": true,
    "slideshow": {
     "slide_type": ""
    },
    "tags": []
   },
   "outputs": [],
   "source": [
    "## Begin Solution\n",
    "\n",
    "\n",
    "\n",
    "\n",
    "## End Solution"
   ]
  },
  {
   "cell_type": "markdown",
   "id": "66c70f57-0e41-423f-a487-5df34f0712aa",
   "metadata": {
    "editable": false,
    "slideshow": {
     "slide_type": ""
    },
    "tags": []
   },
   "source": [
    "## Workout 1- Parking Data\n",
    "\n",
    "This activity uses a sample of the New York City Parking Violations Dataset. Imagine this data was collected by police officers, parking inspectors, or other individuals. This means the data might have some missing or incorrect information.\n",
    "\n",
    "In this exercise, we'll use data cleaning techniques to find and handle missing values in the dataset."
   ]
  },
  {
   "cell_type": "markdown",
   "id": "7467785c-e722-4248-8da5-553c01fc8f7b",
   "metadata": {
    "editable": false,
    "slideshow": {
     "slide_type": ""
    },
    "tags": []
   },
   "source": [
    "### Exercise 1 - Loading the Data\n",
    "\n",
    "In this exercise, you'll start by loading the parking violation data into a DataFrame and selecting the columns we'll be working with. \n",
    "\n",
    "__Your Task__\n",
    "\n",
    "1. __Create a DataFrame__:\n",
    "\n",
    "    * Create a DataFrame named parking_df from the file located at:\n",
    "       \n",
    "        * `data/nyc-parking-violation-sample.csv`\n",
    "\n",
    "2. __Select Specific Columns__:\n",
    "\n",
    "    * From the loaded data, we only need a few specific pieces of information.  Create a new DataFrame (you can name it `parking_df` again, overwriting the previous one, or use a new name) that includes only the following columns:\n",
    "\n",
    "        * `Plate ID`\n",
    "        * `Registration State`\n",
    "        * `Vehicle Make`\n",
    "        * `Vehicle Color`\n",
    "        * `Violation Time`\n",
    "        * `Street Name`\n",
    "\n",
    "3. __Get to Know Your Data__:\n",
    "\n",
    "    * Now, let's take a look at the structure of your DataFrame. Output the information about the `parking_df` DataFrame.  This will help you understand what you're working with.  Make sure to include:\n",
    "\n",
    "        * The name of each column\n",
    "        * The number of entries (rows) in each column\n",
    "        * The data type of each column (e.g., text, numbers, dates)"
   ]
  },
  {
   "cell_type": "code",
   "execution_count": null,
   "id": "d2b1fb5c-b7b1-429c-9879-5d6b805e9224",
   "metadata": {},
   "outputs": [],
   "source": [
    "## Begin Solution\n",
    "\n",
    "\n",
    "\n",
    "\n",
    "\n",
    "\n",
    "\n",
    "\n",
    "\n",
    "\n",
    "## End Solution"
   ]
  },
  {
   "cell_type": "markdown",
   "id": "98e985ab-9306-4876-9f74-ec5f163475ce",
   "metadata": {
    "editable": false,
    "slideshow": {
     "slide_type": ""
    },
    "tags": []
   },
   "source": [
    "### Exercise 2 - Removing `NaN`\n",
    "\n",
    "In this exercise, you'll learn how to handle missing data, a common issue in real-world datasets. We'll remove rows with missing values and then analyze the impact of this data cleaning step.\n",
    "\n",
    "__Your Task__\n",
    "\n",
    "1. __Clean the Data:__\n",
    "\n",
    "    * Create a new DataFrame named `cleaned_parking_df`.\n",
    "\n",
    "        * Remove any rows from the `parking_df` DataFrame (from Exercise 1) that have missing data (represented as `NaN` values).\n",
    "  \n",
    "\n",
    "\n",
    "1. __Analyze the Cleaned Data:__\n",
    "\n",
    "    * Determine the number of rows in `cleaned_parking_df`.  In other words, how many rows are left after removing the rows with missing data?\n",
    "  \n",
    "\n",
    "\n",
    "2. __Calculate Avoided Fines (Hypothetical):__\n",
    "\n",
    "    * For the sake of this exercise, let's imagine that each parking ticket carries a $100 fine.\n",
    "    * Also, imagine that if a ticket has any missing information, it can be successfully contested, and the fine is waived.\n",
    "    * Based on the rows you removed in step 1, calculate the total amount of fines that New York City citizens hypothetically avoided due to missing data.\n",
    "  \n",
    "\n",
    "\n",
    "3. __Important Notes:__\n",
    "\n",
    "    * The idea that missing data automatically voids a ticket is a simplified scenario created for this exercise to make it more engaging. It is not based on actual legal information.\n",
    "    * The purpose of this exercise is to illustrate the impact of data cleaning.\n",
    "    * This exercise is for educational purposes only. I am not a lawyer, and this should not be taken as legal advice. For legal advice, please consult a qualified professional."
   ]
  },
  {
   "cell_type": "code",
   "execution_count": null,
   "id": "c276a52f-65cd-432a-ad16-e436308c40f2",
   "metadata": {},
   "outputs": [],
   "source": [
    "## Begin Solution\n",
    "\n",
    "\n",
    "\n",
    "\n",
    "\n",
    "\n",
    "\n",
    "\n",
    "## End Solution"
   ]
  },
  {
   "cell_type": "markdown",
   "id": "dfe9c963-a3fb-408c-8646-64a4470a1e0d",
   "metadata": {
    "editable": false,
    "slideshow": {
     "slide_type": ""
    },
    "tags": []
   },
   "source": [
    "### Exercise 3 - Missing Data\n",
    "\n",
    "Let's switch up the removal criteria. A ticket can only be dismissed if the license plate, sate, and or street name are missing.\n",
    "\n",
    "__Your Task:__\n",
    "\n",
    "1. Clean the Data:\n",
    "\n",
    "    * Create a new DataFrame named `improved_parking_df`.\n",
    "\n",
    "    * Remove rows from the `parking_df` DataFrame (from Exercise 1) that have missing data (represented as NaN values) in any of the following columns:\n",
    "\n",
    "        * `Plate ID`\n",
    "        * `Registration State`\n",
    "        * `Street Name`\n",
    "\n",
    "2. Analyze the Cleaned Data:\n",
    "    * Determine the number of rows in `improved_parking_df`. In other words, how many rows are left after removing the rows with missing data?\n",
    "\n",
    "3. Calculate Avoided Fines (Hypothetical):\n",
    "    * For the sake of this exercise, let's imagine that each parking ticket carries a $100 fine.\n",
    "    * Also, imagine that if a ticket has missing information in the `Plate ID`, `Registration State`, or `Street Name` columns, it can be successfully contested, and the fine is waived.\n",
    "    * Based on the rows you removed in step 1, calculate the total amount of fines that New York City citizens hypothetically avoided due to missing data.\n",
    "    * The result should be a more realistic value than the previous exercise.\n",
    "\n"
   ]
  },
  {
   "cell_type": "code",
   "execution_count": null,
   "id": "c0be7c8b-808d-4901-9f20-061e100d334e",
   "metadata": {
    "editable": true,
    "slideshow": {
     "slide_type": ""
    },
    "tags": []
   },
   "outputs": [],
   "source": [
    "## Begin Solution\n",
    "\n",
    "\n",
    "\n",
    "\n",
    "\n",
    "\n",
    "\n",
    "\n",
    "\n",
    "\n",
    "## End Solution"
   ]
  },
  {
   "cell_type": "markdown",
   "id": "35abf1e3-d8f3-44c1-be52-57969dc330bb",
   "metadata": {
    "editable": false,
    "slideshow": {
     "slide_type": ""
    },
    "tags": []
   },
   "source": [
    "### Exercise 3 - Missing License Plates\n",
    "\n",
    "In data cleaning, we often deal with not just missing data (like `NaN` values), but also data that, while present, is invalid. This exercise focuses on identifying and removing invalid data.\n",
    "\n",
    "__Your Task:__\n",
    "\n",
    "Consider a new scenario where a parking ticket can be contested and dismissed if the Plate ID is recorded as `BLANKPLATE`.\n",
    "\n",
    "\n",
    "1. __Clean the Data:__\n",
    "\n",
    "    * Create a new DataFrame, `blank_plates_df`.\n",
    "    * Start with the original DataFrame, `parking_df` (from Exercise 1).\n",
    "    * Remove all rows where the `Plate ID` column contains the value `BLANKPLATE`.\n",
    "\n",
    "2. __Analyze the Cleaned Data:__\n",
    "\n",
    "    * Determine how many rows were removed from the original DataFrame (`parking_df`) in the previous step.\n",
    "\n",
    "3. __Calculate Avoided Fines (Hypothetical):__\n",
    "\n",
    "    * Based on the scenario where a `BLANKPLATE` entry allows a ticket to be successfully contested, calculate the total amount in fines that NYC citizens could have potentially avoided. Assume each fine is $100."
   ]
  },
  {
   "cell_type": "code",
   "execution_count": null,
   "id": "a95bc16c-4bb8-4545-9442-09459cd4aea0",
   "metadata": {},
   "outputs": [],
   "source": [
    "## Begin Solution\n",
    "\n",
    "\n",
    "\n",
    "\n",
    "\n",
    "\n",
    "\n",
    "\n",
    "\n",
    "\n",
    "## End Solution"
   ]
  },
  {
   "cell_type": "markdown",
   "id": "79baa2d9-30ce-47d9-81ab-8d87ba013973",
   "metadata": {
    "editable": false,
    "slideshow": {
     "slide_type": ""
    },
    "tags": []
   },
   "source": [
    "## Workout 2 - Celebrity Deaths\n",
    "\n",
    "This activity uses a dataset of celebrities who passed away in 2016. The data, originally sourced from Wikipedia, includes the following information for each celebrity:\n",
    "\n",
    "* `dateofdeath`: The date of death.\n",
    "* `name`: The celebrity's name.\n",
    "* `age`: The celebrity's age.\n",
    "* `bio`: A short biography.\n",
    "* `causeofdeath`: A short description of the cause of death.\n",
    "\n",
    "This dataset contains some inconsistencies, so we'll need to clean it before we can analyze it effectively."
   ]
  },
  {
   "cell_type": "markdown",
   "id": "ffd2bf52-9bfc-4701-a224-7e20637c9928",
   "metadata": {
    "editable": false,
    "slideshow": {
     "slide_type": ""
    },
    "tags": []
   },
   "source": [
    "### Exercise 1 - Average Age of Celebrities who died February-July 2016\n",
    "\n",
    "In this exercise, you will load data about celebrity deaths in 2016, extract the month of death, and prepare the age data for analysis.\n",
    "\n",
    "__Your Task:__\n",
    "\n",
    "1. __Load the Data__:\n",
    "\n",
    "    * Create a DataFrame named `celeb_deaths_df` from the file located at `data/celebrity_deaths_2016.csv`.\n",
    "\n",
    "2. __Extract Month Information__:\n",
    "\n",
    "    * Create a new column named month in the `celeb_deaths_df` DataFrame.\n",
    "\n",
    "    * Extract the month from the `dateofdeath` column and store it in the new month column.\n",
    "\n",
    "3. __Set Index and Sort__:\n",
    "\n",
    "    * Make the month column the index of the `celeb_deaths_df` DataFrame.\n",
    "\n",
    "    * Sort the `celeb_deaths_df` DataFrame by its index (the month).\n",
    "\n",
    "4. __Clean Age Data__:\n",
    "\n",
    "    * The `age` column may contain some non-numeric values. Clean the `age` column by removing any non-integer characters.\n",
    "    * Convert the cleaned age column to a numeric data type.\n",
    "\n",
    "5. __Analyze the Data__:\n",
    "\n",
    "    * Output statistical information (e.g., mean, median, standard deviation) about the `celeb_deaths_df` DataFrame. This will include statistics for the (cleaned) `age` column, among others."
   ]
  },
  {
   "cell_type": "code",
   "execution_count": 1,
   "id": "1e957569-78fc-4f9d-b562-d3e22e49e1cd",
   "metadata": {},
   "outputs": [],
   "source": [
    "## Begin Solution\n",
    "\n",
    "\n",
    "\n",
    "\n",
    "\n",
    "\n",
    "\n",
    "\n",
    "\n",
    "\n",
    "\n",
    "\n",
    "\n",
    "\n",
    "\n",
    "\n",
    "\n",
    "\n",
    "\n",
    "\n",
    "\n",
    "\n",
    "\n",
    "## End Solution"
   ]
  },
  {
   "cell_type": "markdown",
   "id": "6633388d-f61e-4710-a6d7-97664cecb931",
   "metadata": {
    "editable": false,
    "slideshow": {
     "slide_type": ""
    },
    "tags": []
   },
   "source": [
    "### Exercise 2 - Refining the Age Analysis\n",
    "\n",
    "Something is off with the data. We'd like you to determine the average age of death, but according to `df.describe()`, the average age is 100, and the maximum age is 9394! This can't be right. \n",
    "\n",
    "This exercise focuses on filtering out unrealistic data.\n",
    "\n",
    "__Your Task:__\n",
    "\n",
    "* Update the DataFrame to include only individuals younger than 120 years old.\n",
    "\n",
    "* Determine the average age of death for those who died between February and July (inclusive)."
   ]
  },
  {
   "cell_type": "code",
   "execution_count": 2,
   "id": "d80e5a45-6da3-4d93-b3f0-69cf9cda03af",
   "metadata": {},
   "outputs": [],
   "source": [
    "### Begin Solution\n",
    "\n",
    "\n",
    "\n",
    "\n",
    "\n",
    "\n",
    "\n",
    "\n",
    "### Begin Solution"
   ]
  },
  {
   "cell_type": "markdown",
   "id": "f82518d9-0832-4f01-90ca-4153f8191181",
   "metadata": {
    "editable": false,
    "slideshow": {
     "slide_type": ""
    },
    "tags": []
   },
   "source": [
    "### Exercise 3 - Cause of Death\n",
    "\n",
    "In this exercise, you will handle missing values in the `causeofdeath` column and identify the most frequent causes of death in the dataset.\n",
    "\n",
    "__Your Task:__\n",
    "\n",
    "* Update the DataFrame such that any `NaN` values in the `causeofdeath` column are replaced with the string `unknown`.\n",
    "\n",
    "    * It is possible that some entries in the causeofdeath column have leading or trailing spaces, which could affect the results.\n",
    "    * Use the `str.strip()` method to remove these spaces before counting the occurrences of each cause of death.\n",
    "\n",
    "* Determine the 5 most common causes of death in the DataFrame"
   ]
  },
  {
   "cell_type": "code",
   "execution_count": null,
   "id": "c7d81c42-d156-426b-8ba6-b3aff026866b",
   "metadata": {},
   "outputs": [],
   "source": [
    "## Begin Solution\n",
    "\n",
    "\n",
    "\n",
    "\n",
    "\n",
    "\n",
    "\n",
    "\n",
    "## End Solution"
   ]
  },
  {
   "cell_type": "markdown",
   "id": "f146acbc-cb01-4bfc-989e-6e4cfd4d5877",
   "metadata": {
    "editable": true,
    "slideshow": {
     "slide_type": ""
    },
    "tags": []
   },
   "source": [
    "### (Bonus) Exercise 4 - Visualization of Causes of Death\n",
    "\n",
    "This exercise aims to visualize the distribution of the most common causes of death, providing a clear and intuitive understanding of the primary factors contributing to mortality in this dataset.\n",
    "\n",
    "__Your Task:__\n",
    "\n",
    "* Create a bar chart to visualize the 5 most common causes of death identified in Exercise 3.\n",
    "\n",
    "    * The x-axis should represent the causes of death.\n",
    "\n",
    "    * The y-axis should represent the frequency (count) of each cause.\n",
    "\n",
    "* Ensure the chart has a title (e.g., \"Top 5 Causes of Death\") and clear labels for the axes."
   ]
  },
  {
   "cell_type": "code",
   "execution_count": 3,
   "id": "eb7d2b44-b8bf-40a8-bb9a-f850ec999f2d",
   "metadata": {
    "editable": false,
    "slideshow": {
     "slide_type": ""
    },
    "tags": []
   },
   "outputs": [],
   "source": [
    "## Begin Solution\n",
    "\n",
    "\n",
    "\n",
    "\n",
    "\n",
    "\n",
    "\n",
    "\n",
    "\n",
    "\n",
    "\n",
    "\n",
    "\n",
    "\n",
    "\n",
    "\n",
    "\n",
    "\n",
    "## End Solution"
   ]
  },
  {
   "cell_type": "markdown",
   "id": "e5bf95db-1855-4de3-81de-3d7d8c259a69",
   "metadata": {
    "editable": false,
    "slideshow": {
     "slide_type": ""
    },
    "tags": []
   },
   "source": [
    "## Submitting Your Assignment\n",
    "\n",
    "Please follow these steps to submit your work:\n",
    "\n",
    "1. Ensure your name and the names of any collaborators are clearly stated in the [Your Info](#Your-Info) section at the top of the notebook.\n",
    "2. Download your completed notebook as a `.ipynb` file.\n",
    "3. Upload this `.ipynb` file to the designated assignment submission area in Canvas."
   ]
  }
 ],
 "metadata": {
  "kernelspec": {
   "display_name": "Python 3 (ipykernel)",
   "language": "python",
   "name": "python3"
  },
  "language_info": {
   "codemirror_mode": {
    "name": "ipython",
    "version": 3
   },
   "file_extension": ".py",
   "mimetype": "text/x-python",
   "name": "python",
   "nbconvert_exporter": "python",
   "pygments_lexer": "ipython3",
   "version": "3.12.5"
  }
 },
 "nbformat": 4,
 "nbformat_minor": 5
}
