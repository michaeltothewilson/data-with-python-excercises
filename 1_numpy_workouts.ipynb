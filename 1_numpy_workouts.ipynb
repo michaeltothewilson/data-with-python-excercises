{
 "cells": [
  {
   "cell_type": "markdown",
   "id": "4dbe0397-f393-4a97-bde8-6719f6fa66b3",
   "metadata": {
    "editable": true,
    "slideshow": {
     "slide_type": ""
    },
    "tags": []
   },
   "source": [
    "# Your Info\n",
    "__Name__:\n",
    "\n",
    "__PDX Email__:\n",
    "\n",
    "__Collaborators__:"
   ]
  },
  {
   "cell_type": "markdown",
   "id": "5d596dfb-d9a8-40d7-91d1-e4a12b4c3c82",
   "metadata": {
    "editable": false,
    "nbgrader": {
     "grade": false,
     "grade_id": "cell-13e404b1a3c92925",
     "locked": true,
     "schema_version": 3,
     "solution": false,
     "task": false
    },
    "slideshow": {
     "slide_type": ""
    },
    "tags": []
   },
   "source": [
    "# NumPy Workouts\n",
    "\n",
    "This set of exercises provides an opportunity to practice working with NumPy arrays.\n",
    "\n",
    "Carefully read each exercise and complete the task to the best of your ability."
   ]
  },
  {
   "cell_type": "markdown",
   "id": "18a69770-5238-4502-beb0-a67c9cd2018a",
   "metadata": {
    "editable": false,
    "nbgrader": {
     "grade": false,
     "grade_id": "cell-0e0e3976d00cc9df",
     "locked": true,
     "points": 0,
     "schema_version": 3,
     "solution": false,
     "task": true
    },
    "slideshow": {
     "slide_type": ""
    },
    "tags": []
   },
   "source": [
    "## 1. Importing NumPy"
   ]
  },
  {
   "cell_type": "markdown",
   "id": "33ba1653-a728-4bbb-87cc-a2a5b90982d7",
   "metadata": {
    "editable": false,
    "slideshow": {
     "slide_type": ""
    },
    "tags": []
   },
   "source": [
    "#### 1.1 Import the NumPy package under the name `np`"
   ]
  },
  {
   "cell_type": "code",
   "execution_count": null,
   "id": "a0514423-7781-45c9-8e2a-1c02af5801f3",
   "metadata": {
    "editable": true,
    "nbgrader": {
     "grade": false,
     "grade_id": "cell-4b91485f2452cb6c",
     "locked": true,
     "points": 0,
     "schema_version": 3,
     "solution": false,
     "task": true
    },
    "slideshow": {
     "slide_type": ""
    },
    "tags": []
   },
   "outputs": [],
   "source": [
    "\n",
    "\n",
    "\n",
    "\n"
   ]
  },
  {
   "cell_type": "markdown",
   "id": "be07f8e0-b3fc-4427-99c3-03b86fd243d8",
   "metadata": {
    "editable": false,
    "slideshow": {
     "slide_type": ""
    },
    "tags": []
   },
   "source": [
    "#### 1.2 Print the NumPy version and the configuration"
   ]
  },
  {
   "cell_type": "code",
   "execution_count": null,
   "id": "50efa6b3-ce95-4862-af8e-21301252b25d",
   "metadata": {
    "editable": true,
    "slideshow": {
     "slide_type": ""
    },
    "tags": []
   },
   "outputs": [],
   "source": [
    "\n",
    "\n",
    "\n",
    "\n",
    "\n"
   ]
  },
  {
   "cell_type": "markdown",
   "id": "b2ec0990-7724-4727-a2bd-db378c530242",
   "metadata": {
    "editable": true,
    "slideshow": {
     "slide_type": ""
    },
    "tags": []
   },
   "source": [
    "## 2. Creating Arrays"
   ]
  },
  {
   "cell_type": "markdown",
   "id": "007cb6f7-9ad5-4cb8-98fa-bc0aee42ca5c",
   "metadata": {
    "editable": false,
    "slideshow": {
     "slide_type": ""
    },
    "tags": []
   },
   "source": [
    "#### 2.1 Create a 1D array of 30 zeros"
   ]
  },
  {
   "cell_type": "code",
   "execution_count": null,
   "id": "3ad8d2a7-1313-48d4-ab89-ad240d0a6bac",
   "metadata": {
    "editable": true,
    "slideshow": {
     "slide_type": ""
    },
    "tags": []
   },
   "outputs": [],
   "source": [
    "\n",
    "\n",
    "\n",
    "\n"
   ]
  },
  {
   "cell_type": "markdown",
   "id": "441e7926-8d09-4559-8dbb-fedd1e765871",
   "metadata": {
    "editable": false,
    "slideshow": {
     "slide_type": ""
    },
    "tags": []
   },
   "source": [
    "#### 2.2 Create a 2D array with 3 rows and 2 columns filled with Ones"
   ]
  },
  {
   "cell_type": "code",
   "execution_count": null,
   "id": "7e004215-6d3b-40c7-91d2-a285a07a860a",
   "metadata": {
    "editable": true,
    "slideshow": {
     "slide_type": ""
    },
    "tags": []
   },
   "outputs": [],
   "source": [
    "\n",
    "\n",
    "\n",
    "\n"
   ]
  },
  {
   "cell_type": "markdown",
   "id": "98ea1d9c-605a-473c-a065-e65570be2d11",
   "metadata": {
    "editable": false,
    "slideshow": {
     "slide_type": ""
    },
    "tags": []
   },
   "source": [
    "#### 2.3 Create a 1D Array containing the even numbers from 0 to 10 (inclusive)"
   ]
  },
  {
   "cell_type": "code",
   "execution_count": null,
   "id": "7f6f6db9-3e47-4459-a07f-ed088f971d51",
   "metadata": {
    "editable": true,
    "slideshow": {
     "slide_type": ""
    },
    "tags": []
   },
   "outputs": [],
   "source": [
    "\n",
    "\n",
    "\n",
    "\n"
   ]
  },
  {
   "cell_type": "markdown",
   "id": "9311d66f-727d-4837-8373-40581a69b278",
   "metadata": {
    "editable": false,
    "slideshow": {
     "slide_type": ""
    },
    "tags": []
   },
   "source": [
    "#### 2.4 Create a new array that is the result of multiplying each element of `numpy_array` by 3"
   ]
  },
  {
   "cell_type": "code",
   "execution_count": 5,
   "id": "3841ccfb-0c2d-4011-81ee-a9e32ff3e11c",
   "metadata": {
    "editable": true,
    "slideshow": {
     "slide_type": ""
    },
    "tags": []
   },
   "outputs": [
    {
     "data": {
      "text/plain": [
       "array([ 2,  4,  6,  8, 10, 12, 14, 16, 18, 20])"
      ]
     },
     "execution_count": 5,
     "metadata": {},
     "output_type": "execute_result"
    }
   ],
   "source": [
    "numpy_array = np.array([ 2,  4,  6,  8, 10, 12, 14, 16, 18, 20])\n",
    "\n",
    "\n",
    "\n"
   ]
  },
  {
   "cell_type": "markdown",
   "id": "fca4206e-13e7-4c10-b603-f1ec0696a599",
   "metadata": {
    "editable": false,
    "slideshow": {
     "slide_type": ""
    },
    "tags": []
   },
   "source": [
    "#### 2.5 Create an Array with a shape of 5 rows and 4 columns, filled with Zeros"
   ]
  },
  {
   "cell_type": "code",
   "execution_count": null,
   "id": "21888e3b-9e7f-44c1-b68d-6d3e08b2c7e7",
   "metadata": {
    "editable": true,
    "slideshow": {
     "slide_type": ""
    },
    "tags": []
   },
   "outputs": [],
   "source": [
    "\n",
    "\n",
    "\n",
    "\n"
   ]
  },
  {
   "cell_type": "markdown",
   "id": "ab30c1d3-58cc-4734-99af-c13d3de84144",
   "metadata": {
    "editable": false,
    "slideshow": {
     "slide_type": ""
    },
    "tags": []
   },
   "source": [
    "#### 2.6 Check the shape and dimensions of the `sample_array` below:"
   ]
  },
  {
   "cell_type": "code",
   "execution_count": null,
   "id": "61791af4-3c44-458b-b987-c32a3c7a435f",
   "metadata": {
    "editable": true,
    "slideshow": {
     "slide_type": ""
    },
    "tags": []
   },
   "outputs": [],
   "source": [
    "sample_array = np.array([[1, 2, 3], [4, 5, 6]])\n",
    "\n",
    "\n",
    "\n"
   ]
  },
  {
   "cell_type": "markdown",
   "id": "14c7369a-9a2d-45b6-9c40-7b1dbe12fd47",
   "metadata": {
    "editable": false,
    "slideshow": {
     "slide_type": ""
    },
    "tags": []
   },
   "source": [
    "#### 2.7 Create a size-10 array of zeros except the fifth value is 1"
   ]
  },
  {
   "cell_type": "code",
   "execution_count": null,
   "id": "d9d4e68e-135e-486f-9b67-c2c23165b656",
   "metadata": {},
   "outputs": [],
   "source": [
    "\n",
    "\n",
    "\n",
    "\n"
   ]
  },
  {
   "cell_type": "markdown",
   "id": "42348c49-2966-4b5e-969d-275f828f76c9",
   "metadata": {
    "editable": false,
    "slideshow": {
     "slide_type": ""
    },
    "tags": []
   },
   "source": [
    "#### 2.8 Create an arrray with values ranging from 10 to 49"
   ]
  },
  {
   "cell_type": "code",
   "execution_count": null,
   "id": "67b99b7f-97c7-4f4b-8ce1-4d539b130760",
   "metadata": {},
   "outputs": [],
   "source": [
    "\n",
    "\n",
    "\n",
    "\n"
   ]
  },
  {
   "cell_type": "markdown",
   "id": "d6bea552-7cf4-4e06-a4e3-eda9c81e6895",
   "metadata": {
    "editable": true,
    "slideshow": {
     "slide_type": ""
    },
    "tags": []
   },
   "source": [
    "#### 2.9 Create a 3x3 array with values ranging from 0 to 8"
   ]
  },
  {
   "cell_type": "code",
   "execution_count": null,
   "id": "643f85ca-641f-4a98-bde4-7ca165737a6f",
   "metadata": {
    "editable": true,
    "slideshow": {
     "slide_type": ""
    },
    "tags": []
   },
   "outputs": [],
   "source": [
    "\n",
    "\n",
    "\n",
    "\n"
   ]
  },
  {
   "cell_type": "markdown",
   "id": "663ae4a1-a45a-403f-8b53-76df338d8636",
   "metadata": {
    "editable": true,
    "slideshow": {
     "slide_type": ""
    },
    "tags": []
   },
   "source": [
    "#### 2.10 Create a 3x3x3 array with random values"
   ]
  },
  {
   "cell_type": "code",
   "execution_count": null,
   "id": "ae8205c7-f36e-477f-b131-85551622b079",
   "metadata": {
    "editable": true,
    "slideshow": {
     "slide_type": ""
    },
    "tags": []
   },
   "outputs": [],
   "source": [
    "\n",
    "\n",
    "\n",
    "\n"
   ]
  },
  {
   "cell_type": "markdown",
   "id": "93152919-907e-4593-8c05-01b69b1d1d10",
   "metadata": {
    "editable": true,
    "slideshow": {
     "slide_type": ""
    },
    "tags": []
   },
   "source": [
    "## 3. Operations"
   ]
  },
  {
   "cell_type": "markdown",
   "id": "478177d5-35dc-49f4-b4df-ed500bc5156c",
   "metadata": {
    "editable": false,
    "slideshow": {
     "slide_type": ""
    },
    "tags": []
   },
   "source": [
    "#### 3.1 Element-Wise Operations\n",
    "\n",
    "1. Create a NumPy array arr with the values [1, 2, 3, 4, 5].\n",
    "2. Add 5 to each element of the array.\n",
    "3. Multiply each element of the array by 2.\n",
    "4. Calculate the square of each element in the array."
   ]
  },
  {
   "cell_type": "code",
   "execution_count": null,
   "id": "f6259efe-4d80-4106-8adf-7d9d5fc8b2e1",
   "metadata": {
    "editable": true,
    "slideshow": {
     "slide_type": ""
    },
    "tags": []
   },
   "outputs": [],
   "source": [
    "\n",
    "\n",
    "\n",
    "\n",
    "\n",
    "\n",
    "\n",
    "\n",
    "\n"
   ]
  },
  {
   "cell_type": "markdown",
   "id": "99e2f19e-d2af-4971-8e43-454bec540def",
   "metadata": {
    "editable": false,
    "slideshow": {
     "slide_type": ""
    },
    "tags": []
   },
   "source": [
    "#### 3.2 Array Arthmetic\n",
    "\n",
    "1. Create two NumPy arrays: `arr1 = np.array([10, 20, 30])` and `arr2 = np.array([1, 2, 3])`.\n",
    "2. Add `arr1` and `arr2` element-wise.\n",
    "3. Subtract `arr2` from `arr1` element-wise.\n",
    "4. Multiply `arr1` and `arr2` element-wise.\n",
    "5. Divide `arr1` by `arr2` element-wise."
   ]
  },
  {
   "cell_type": "code",
   "execution_count": null,
   "id": "2faad1d6-4c36-48ba-9b1e-98273f38fbaa",
   "metadata": {
    "editable": true,
    "slideshow": {
     "slide_type": ""
    },
    "tags": []
   },
   "outputs": [],
   "source": [
    "\n",
    "\n",
    "\n",
    "\n",
    "\n",
    "\n",
    "\n",
    "\n",
    "\n"
   ]
  },
  {
   "cell_type": "markdown",
   "id": "98c92f6b-4218-466e-acbe-1fdcf6d68752",
   "metadata": {
    "editable": true,
    "slideshow": {
     "slide_type": ""
    },
    "tags": []
   },
   "source": [
    "## 4. Statistical Methods"
   ]
  },
  {
   "cell_type": "markdown",
   "id": "4f630ca5-ca46-4cb1-8c29-e361d04786d8",
   "metadata": {
    "editable": false,
    "slideshow": {
     "slide_type": ""
    },
    "tags": []
   },
   "source": [
    "#### 4.1 Aggregation\n",
    "\n",
    "1. Create a NumPy array `data` containing 30 random numbers.\n",
    "2. Find the sum of all elements in `data`.\n",
    "3. Find the minimum value in `data`.\n",
    "4. Find the maximum value in `data`.\n",
    "5. Calculate the mean of the elements in `data`."
   ]
  },
  {
   "cell_type": "code",
   "execution_count": null,
   "id": "e7a1040c-1908-4197-9c1e-0029e416063a",
   "metadata": {
    "editable": true,
    "slideshow": {
     "slide_type": ""
    },
    "tags": []
   },
   "outputs": [],
   "source": [
    "\n",
    "\n",
    "\n",
    "\n",
    "\n",
    "\n",
    "\n",
    "\n",
    "\n"
   ]
  },
  {
   "cell_type": "markdown",
   "id": "4e73c1e7-6b8e-4711-bdfe-07b18286b523",
   "metadata": {
    "editable": false,
    "slideshow": {
     "slide_type": ""
    },
    "tags": []
   },
   "source": [
    "## 5. Bonus"
   ]
  },
  {
   "cell_type": "markdown",
   "id": "081dea35-afbd-40a3-a438-e0519bea62ac",
   "metadata": {
    "editable": true,
    "slideshow": {
     "slide_type": ""
    },
    "tags": []
   },
   "source": [
    "#### 5.1 Checkerboard \n",
    "\n",
    "1. Create an 8x8 array and fill it with a checkerboard pattern"
   ]
  },
  {
   "cell_type": "code",
   "execution_count": null,
   "id": "129a269b-8141-4b50-a439-91c90003bf6a",
   "metadata": {
    "editable": true,
    "slideshow": {
     "slide_type": ""
    },
    "tags": []
   },
   "outputs": [],
   "source": [
    "\n",
    "\n",
    "\n",
    "\n"
   ]
  },
  {
   "cell_type": "markdown",
   "id": "4ffd9840-4d46-4489-a9c0-fa91546d265d",
   "metadata": {
    "editable": true,
    "slideshow": {
     "slide_type": ""
    },
    "tags": []
   },
   "source": [
    "#### 5.2 Matrix\n",
    "\n",
    "1. Create a 2D NumPy array `matrix = np.array([[1, 2, 3], [4, 5, 6], [7, 8, 9]])`.\n",
    "2. Calculate the sum of all elements in the `matrix`.\n",
    "3. Calculate the sum of each row in the `matrix`.\n",
    "4. Calculate the sum of each column in the `matrix`."
   ]
  },
  {
   "cell_type": "code",
   "execution_count": null,
   "id": "959da08f-84d5-4534-9350-09d1f4fd5d1e",
   "metadata": {
    "editable": true,
    "slideshow": {
     "slide_type": ""
    },
    "tags": []
   },
   "outputs": [],
   "source": [
    "\n",
    "\n",
    "\n",
    "\n",
    "\n",
    "\n",
    "\n",
    "\n",
    "\n"
   ]
  },
  {
   "cell_type": "markdown",
   "id": "303d6708-410b-458c-9672-9d52cb8ed0c8",
   "metadata": {
    "editable": false,
    "slideshow": {
     "slide_type": ""
    },
    "tags": []
   },
   "source": [
    "### Submitting Your Assignment\n",
    "\n",
    "Please follow these steps to submit your work:\n",
    "\n",
    "1. Ensure your name and the names of any collaborators are clearly stated in the [Your Info](#Your-Info) section at the top of the notebook.\n",
    "2. Download your completed notebook as a `.ipynb` file.\n",
    "3. Upload this `.ipynb` file to the designated assignment submission area in Canvas."
   ]
  }
 ],
 "metadata": {
  "kernelspec": {
   "display_name": "Python 3 (ipykernel)",
   "language": "python",
   "name": "python3"
  },
  "language_info": {
   "codemirror_mode": {
    "name": "ipython",
    "version": 3
   },
   "file_extension": ".py",
   "mimetype": "text/x-python",
   "name": "python",
   "nbconvert_exporter": "python",
   "pygments_lexer": "ipython3",
   "version": "3.12.5"
  }
 },
 "nbformat": 4,
 "nbformat_minor": 5
}
